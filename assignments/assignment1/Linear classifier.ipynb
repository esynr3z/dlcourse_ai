{
 "cells": [
  {
   "cell_type": "markdown",
   "metadata": {},
   "source": [
    "# Задание 1.2 - Линейный классификатор (Linear classifier)\n",
    "\n",
    "В этом задании мы реализуем другую модель машинного обучения - линейный классификатор. Линейный классификатор подбирает для каждого класса веса, на которые нужно умножить значение каждого признака и потом сложить вместе.\n",
    "Тот класс, у которого эта сумма больше, и является предсказанием модели.\n",
    "\n",
    "В этом задании вы:\n",
    "- потренируетесь считать градиенты различных многомерных функций\n",
    "- реализуете подсчет градиентов через линейную модель и функцию потерь softmax\n",
    "- реализуете процесс тренировки линейного классификатора\n",
    "- подберете параметры тренировки на практике\n",
    "\n",
    "На всякий случай, еще раз ссылка на туториал по numpy:  \n",
    "http://cs231n.github.io/python-numpy-tutorial/"
   ]
  },
  {
   "cell_type": "code",
   "execution_count": 1,
   "metadata": {},
   "outputs": [],
   "source": [
    "import numpy as np\n",
    "import matplotlib.pyplot as plt\n",
    "\n",
    "%matplotlib inline\n",
    "\n",
    "%load_ext autoreload\n",
    "%autoreload 2"
   ]
  },
  {
   "cell_type": "code",
   "execution_count": 2,
   "metadata": {},
   "outputs": [],
   "source": [
    "from dataset import load_svhn, random_split_train_val\n",
    "from gradient_check import check_gradient\n",
    "from metrics import multiclass_accuracy \n",
    "import linear_classifer"
   ]
  },
  {
   "cell_type": "markdown",
   "metadata": {},
   "source": [
    "# Как всегда, первым делом загружаем данные\n",
    "\n",
    "Мы будем использовать все тот же SVHN."
   ]
  },
  {
   "cell_type": "code",
   "execution_count": 9,
   "metadata": {},
   "outputs": [
    {
     "name": "stdout",
     "output_type": "stream",
     "text": [
      "(10000, 32, 32, 3)\n",
      "(10000, 3072) [0.42352941 0.4745098  0.54901961 ... 0.56470588 0.61960784 0.67058824]\n",
      "(10000, 3073)\n"
     ]
    }
   ],
   "source": [
    "def prepare_for_linear_classifier(train_X, test_X):\n",
    "    train_flat = train_X.reshape(train_X.shape[0], -1).astype(np.float) / 255.0\n",
    "    test_flat = test_X.reshape(test_X.shape[0], -1).astype(np.float) / 255.0\n",
    "    \n",
    "    # Subtract mean\n",
    "    mean_image = np.mean(train_flat, axis = 0)\n",
    "    train_flat -= mean_image\n",
    "    test_flat -= mean_image\n",
    "    \n",
    "    # Add another channel with ones as a bias term\n",
    "    train_flat_with_ones = np.hstack([train_flat, np.ones((train_X.shape[0], 1))])\n",
    "    test_flat_with_ones = np.hstack([test_flat, np.ones((test_X.shape[0], 1))])    \n",
    "    return train_flat_with_ones, test_flat_with_ones\n",
    "    \n",
    "train_X, train_y, test_X, test_y = load_svhn(\"data\", max_train=10000, max_test=1000)    \n",
    "train_X, test_X = prepare_for_linear_classifier(train_X, test_X)\n",
    "\n",
    "# Split train into train and val\n",
    "train_X, train_y, val_X, val_y = random_split_train_val(train_X, train_y, num_val = 1000)"
   ]
  },
  {
   "cell_type": "markdown",
   "metadata": {},
   "source": [
    "# Играемся с градиентами!\n",
    "\n",
    "В этом курсе мы будем писать много функций, которые вычисляют градиенты аналитическим методом.\n",
    "\n",
    "Все функции, в которых мы будем вычислять градиенты, будут написаны по одной и той же схеме.  \n",
    "Они будут получать на вход точку, где нужно вычислить значение и градиент функции, а на выходе будут выдавать кортеж (tuple) из двух значений - собственно значения функции в этой точке (всегда одно число) и аналитического значения градиента в той же точке (той же размерности, что и вход).\n",
    "```\n",
    "def f(x):\n",
    "    \"\"\"\n",
    "    Computes function and analytic gradient at x\n",
    "    \n",
    "    x: np array of float, input to the function\n",
    "    \n",
    "    Returns:\n",
    "    value: float, value of the function \n",
    "    grad: np array of float, same shape as x\n",
    "    \"\"\"\n",
    "    ...\n",
    "    \n",
    "    return value, grad\n",
    "```\n",
    "\n",
    "Необходимым инструментом во время реализации кода, вычисляющего градиенты, является функция его проверки. Эта функция вычисляет градиент численным методом и сверяет результат с градиентом, вычисленным аналитическим методом.\n",
    "\n",
    "Мы начнем с того, чтобы реализовать вычисление численного градиента (numeric gradient) в функции `check_gradient` в `gradient_check.py`. Эта функция будет принимать на вход функции формата, заданного выше, использовать значение `value` для вычисления численного градиента и сравнит его с аналитическим - они должны сходиться.\n",
    "\n",
    "Напишите часть функции, которая вычисляет градиент с помощью численной производной для каждой координаты. Для вычисления производной используйте так называемую two-point formula (https://en.wikipedia.org/wiki/Numerical_differentiation):\n",
    "\n",
    "![image](https://wikimedia.org/api/rest_v1/media/math/render/svg/22fc2c0a66c63560a349604f8b6b39221566236d)\n",
    "\n",
    "Все функции приведенные в следующей клетке должны проходить gradient check."
   ]
  },
  {
   "cell_type": "code",
   "execution_count": 295,
   "metadata": {
    "scrolled": true
   },
   "outputs": [
    {
     "name": "stdout",
     "output_type": "stream",
     "text": [
      "Gradient check passed!\n",
      "Gradient check passed!\n",
      "Gradient check passed!\n"
     ]
    },
    {
     "data": {
      "text/plain": [
       "True"
      ]
     },
     "execution_count": 295,
     "metadata": {},
     "output_type": "execute_result"
    }
   ],
   "source": [
    "# TODO: Implement check_gradient function in gradient_check.py\n",
    "# All the functions below should pass the gradient check\n",
    "\n",
    "def square(x):\n",
    "    return float(x*x), 2*x\n",
    "\n",
    "check_gradient(square, np.array([3.0]))\n",
    "\n",
    "def array_sum(x):\n",
    "    assert x.shape == (2,), x.shape\n",
    "    return np.sum(x), np.ones_like(x)\n",
    "\n",
    "check_gradient(array_sum, np.array([3.0, 2.0]))\n",
    "\n",
    "def array_2d_sum(x):\n",
    "    assert x.shape == (2,2)\n",
    "    return np.sum(x), np.ones_like(x)\n",
    "\n",
    "check_gradient(array_2d_sum, np.array([[3.0, 2.0], [1.0, 0.0]]))"
   ]
  },
  {
   "cell_type": "markdown",
   "metadata": {},
   "source": [
    "## Начинаем писать свои функции, считающие аналитический градиент\n",
    "\n",
    "Теперь реализуем функцию softmax, которая получает на вход оценки для каждого класса и преобразует их в вероятности от 0 до 1:\n",
    "![image](https://wikimedia.org/api/rest_v1/media/math/render/svg/e348290cf48ddbb6e9a6ef4e39363568b67c09d3)\n",
    "\n",
    "**Важно:** Практический аспект вычисления этой функции заключается в том, что в ней учавствует вычисление экспоненты от потенциально очень больших чисел - это может привести к очень большим значениям в числителе и знаменателе за пределами диапазона float.\n",
    "\n",
    "К счастью, у этой проблемы есть простое решение -- перед вычислением softmax вычесть из всех оценок максимальное значение среди всех оценок:\n",
    "```\n",
    "predictions -= np.max(predictions)\n",
    "```\n",
    "(подробнее здесь - http://cs231n.github.io/linear-classify/#softmax, секция `Practical issues: Numeric stability`)"
   ]
  },
  {
   "cell_type": "code",
   "execution_count": 296,
   "metadata": {},
   "outputs": [
    {
     "name": "stdout",
     "output_type": "stream",
     "text": [
      "[2.06106005e-09 4.53978686e-05 9.99954600e-01]\n",
      "[1. 0. 0.]\n",
      "[[1. 0. 0.]\n",
      " [0. 0. 1.]]\n"
     ]
    }
   ],
   "source": [
    "# TODO Implement softmax and cross-entropy for single sample\n",
    "probs = linear_classifer.softmax(np.array([-10, 0, 10]))\n",
    "print(probs)\n",
    "# Make sure it works for big numbers too!\n",
    "probs = linear_classifer.softmax(np.array([1000, 0, 0]))\n",
    "print(probs)\n",
    "assert np.isclose(probs[0], 1.0)\n",
    "# Make sure it works on batches\n",
    "probs = linear_classifer.softmax(np.array([[1000, 0, 0], [2000, 0, 3000]]))\n",
    "print(probs)"
   ]
  },
  {
   "cell_type": "markdown",
   "metadata": {},
   "source": [
    "Кроме этого, мы реализуем cross-entropy loss, которую мы будем использовать как функцию ошибки (error function).\n",
    "В общем виде cross-entropy определена следующим образом:\n",
    "![image](https://wikimedia.org/api/rest_v1/media/math/render/svg/0cb6da032ab424eefdca0884cd4113fe578f4293)\n",
    "\n",
    "где x - все классы, p(x) - истинная вероятность принадлежности сэмпла классу x, а q(x) - вероятность принадлежности классу x, предсказанная моделью.  \n",
    "В нашем случае сэмпл принадлежит только одному классу, индекс которого передается функции. Для него p(x) равна 1, а для остальных классов - 0. \n",
    "\n",
    "Это позволяет реализовать функцию проще!"
   ]
  },
  {
   "cell_type": "code",
   "execution_count": 297,
   "metadata": {},
   "outputs": [
    {
     "name": "stdout",
     "output_type": "stream",
     "text": [
      "1.551444713932051\n",
      "7.5034030741673625\n"
     ]
    }
   ],
   "source": [
    "probs = linear_classifer.softmax(np.array([1, 0, 0]))\n",
    "print(linear_classifer.cross_entropy_loss(probs, np.array([1])))\n",
    "\n",
    "probs = linear_classifer.softmax(np.array([[-5, 0, 5], [-5, 10, 0]]))\n",
    "print(linear_classifer.cross_entropy_loss(probs, np.array([1, 2])))"
   ]
  },
  {
   "cell_type": "markdown",
   "metadata": {},
   "source": [
    "После того как мы реализовали сами функции, мы можем реализовать градиент.\n",
    "\n",
    "Оказывается, что вычисление градиента становится гораздо проще, если объединить эти функции в одну, которая сначала вычисляет вероятности через softmax, а потом использует их для вычисления функции ошибки через cross-entropy loss.\n",
    "\n",
    "Эта функция `softmax_with_cross_entropy` будет возвращает и значение ошибки, и градиент по входным параметрам. Мы проверим корректность реализации с помощью `check_gradient`."
   ]
  },
  {
   "cell_type": "code",
   "execution_count": 298,
   "metadata": {},
   "outputs": [
    {
     "name": "stdout",
     "output_type": "stream",
     "text": [
      "Gradient check passed!\n",
      "Gradient check passed!\n"
     ]
    },
    {
     "data": {
      "text/plain": [
       "True"
      ]
     },
     "execution_count": 298,
     "metadata": {},
     "output_type": "execute_result"
    }
   ],
   "source": [
    "# TODO Implement combined function or softmax and cross entropy and produces gradient\n",
    "loss, grad = linear_classifer.softmax_with_cross_entropy(np.array([1, 0, 0]), np.array([1]))\n",
    "check_gradient(lambda x: linear_classifer.softmax_with_cross_entropy(x, np.array([1])), np.array([1, 0, 0], np.float))\n",
    "\n",
    "loss, grad = linear_classifer.softmax_with_cross_entropy(np.array([[1, 0, 0],[5,0,-5]]), np.array([1, 2]))\n",
    "check_gradient(lambda x: linear_classifer.softmax_with_cross_entropy(x, np.array([1, 2])), np.array([[1, 0, 0],[5,0,-5]], np.float))"
   ]
  },
  {
   "cell_type": "markdown",
   "metadata": {},
   "source": [
    "В качестве метода тренировки мы будем использовать стохастический градиентный спуск (stochastic gradient descent или SGD), который работает с батчами сэмплов. \n",
    "\n",
    "Поэтому все наши фукнции будут получать не один пример, а батч, то есть входом будет не вектор из `num_classes` оценок, а матрица размерности `batch_size, num_classes`. Индекс примера в батче всегда будет первым измерением.\n",
    "\n",
    "Следующий шаг - переписать наши функции так, чтобы они поддерживали батчи.\n",
    "\n",
    "Финальное значение функции ошибки должно остаться числом, и оно равно среднему значению ошибки среди всех примеров в батче."
   ]
  },
  {
   "cell_type": "code",
   "execution_count": 301,
   "metadata": {
    "scrolled": false
   },
   "outputs": [
    {
     "name": "stdout",
     "output_type": "stream",
     "text": [
      "Gradient check passed!\n",
      "Gradient check passed!\n"
     ]
    }
   ],
   "source": [
    "# TODO Extend combined function so it can receive a 2d array with batch of samples\n",
    "np.random.seed(42)\n",
    "# Test batch_size = 1\n",
    "num_classes = 4\n",
    "batch_size = 1\n",
    "predictions = np.random.randint(-1, 3, size=(batch_size, num_classes)).astype(np.float)\n",
    "target_index = np.random.randint(0, num_classes, size=(batch_size)).astype(np.int)\n",
    "check_gradient(lambda x: linear_classifer.softmax_with_cross_entropy(x, target_index), predictions)\n",
    "\n",
    "# Test batch_size = 3\n",
    "num_classes = 4\n",
    "batch_size = 3\n",
    "predictions = np.random.randint(-1, 3, size=(batch_size, num_classes)).astype(np.float)\n",
    "target_index = np.random.randint(0, num_classes, size=(batch_size)).astype(np.int)\n",
    "check_gradient(lambda x: linear_classifer.softmax_with_cross_entropy(x, target_index), predictions)\n",
    "\n",
    "# Make sure maximum subtraction for numberic stability is done separately for every sample in the batch\n",
    "probs = linear_classifer.softmax(np.array([[20,0,0], [1000, 0, 0]]))\n",
    "assert np.all(np.isclose(probs[:, 0], 1.0))"
   ]
  },
  {
   "cell_type": "markdown",
   "metadata": {},
   "source": [
    "### Наконец, реализуем сам линейный классификатор!\n",
    "\n",
    "softmax и cross-entropy получают на вход оценки, которые выдает линейный классификатор.\n",
    "\n",
    "Он делает это очень просто: для каждого класса есть набор весов, на которые надо умножить пиксели картинки и сложить. Получившееся число и является оценкой класса, идущей на вход softmax.\n",
    "\n",
    "Таким образом, линейный классификатор можно представить как умножение вектора с пикселями на матрицу W размера `num_features, num_classes`. Такой подход легко расширяется на случай батча векторов с пикселями X размера `batch_size, num_features`:\n",
    "\n",
    "`predictions = X * W`, где `*` - матричное умножение.\n",
    "\n",
    "Реализуйте функцию подсчета линейного классификатора и градиентов по весам `linear_softmax` в файле `linear_classifer.py`"
   ]
  },
  {
   "cell_type": "code",
   "execution_count": 343,
   "metadata": {},
   "outputs": [
    {
     "name": "stdout",
     "output_type": "stream",
     "text": [
      "Gradient check passed!\n"
     ]
    },
    {
     "data": {
      "text/plain": [
       "True"
      ]
     },
     "execution_count": 343,
     "metadata": {},
     "output_type": "execute_result"
    }
   ],
   "source": [
    "# TODO Implement linear_softmax function that uses softmax with cross-entropy for linear classifier\n",
    "batch_size = 2\n",
    "num_classes = 2\n",
    "num_features = 3\n",
    "np.random.seed(42)\n",
    "W = np.random.randint(-1, 3, size=(num_features, num_classes)).astype(np.float)\n",
    "X = np.random.randint(-1, 3, size=(batch_size, num_features)).astype(np.float)\n",
    "target_index = np.ones(batch_size, dtype=np.int)\n",
    "#print(W, W.shape,\"\\n---\\n\", X, X.shape, \"\\n---\\n\", target_index.shape, \"\\n---\\n\",)\n",
    "\n",
    "loss, dW = linear_classifer.linear_softmax(X, W, target_index)\n",
    "check_gradient(lambda w: linear_classifer.linear_softmax(X, w, target_index), W)"
   ]
  },
  {
   "cell_type": "markdown",
   "metadata": {},
   "source": [
    "### И теперь регуляризация\n",
    "\n",
    "Мы будем использовать L2 regularization для весов как часть общей функции ошибки.\n",
    "\n",
    "Напомним, L2 regularization определяется как\n",
    "\n",
    "l2_reg_loss = regularization_strength * sum<sub>ij</sub> W[i, j]<sup>2</sup>\n",
    "\n",
    "Реализуйте функцию для его вычисления и вычисления соотвествующих градиентов."
   ]
  },
  {
   "cell_type": "code",
   "execution_count": 344,
   "metadata": {},
   "outputs": [
    {
     "name": "stdout",
     "output_type": "stream",
     "text": [
      "[[ 1.  2.]\n",
      " [-1.  1.]\n",
      " [ 1.  2.]] 0.12 [[ 0.02  0.04]\n",
      " [-0.02  0.02]\n",
      " [ 0.02  0.04]]\n",
      "Gradient check passed!\n"
     ]
    },
    {
     "data": {
      "text/plain": [
       "True"
      ]
     },
     "execution_count": 344,
     "metadata": {},
     "output_type": "execute_result"
    }
   ],
   "source": [
    "# TODO Implement l2_regularization function that implements loss for L2 regularization\n",
    "loss, grad = linear_classifer.l2_regularization(W, 0.01)\n",
    "print(W,loss, grad)\n",
    "check_gradient(lambda w: linear_classifer.l2_regularization(w, 0.01), W)"
   ]
  },
  {
   "cell_type": "markdown",
   "metadata": {},
   "source": [
    "# Тренировка!"
   ]
  },
  {
   "cell_type": "markdown",
   "metadata": {},
   "source": [
    "Градиенты в порядке, реализуем процесс тренировки!"
   ]
  },
  {
   "cell_type": "code",
   "execution_count": 353,
   "metadata": {
    "scrolled": false
   },
   "outputs": [
    {
     "name": "stdout",
     "output_type": "stream",
     "text": [
      "train_X.shape\n",
      " (10000, 3073)\n",
      "train_y.shape\n",
      " (10000,)\n",
      "Epoch 0, loss: 2.473370\n",
      "Epoch 1, loss: 2.345278\n",
      "Epoch 2, loss: 2.312869\n",
      "Epoch 3, loss: 2.304659\n",
      "Epoch 4, loss: 2.302558\n",
      "Epoch 5, loss: 2.302069\n",
      "Epoch 6, loss: 2.301932\n",
      "Epoch 7, loss: 2.301888\n",
      "Epoch 8, loss: 2.301901\n",
      "Epoch 9, loss: 2.301855\n"
     ]
    }
   ],
   "source": [
    "# TODO: Implement LinearSoftmaxClassifier.fit function\n",
    "print(\"train_X.shape\\n\", train_X.shape)\n",
    "print(\"train_y.shape\\n\", train_y.shape)\n",
    "classifier = linear_classifer.LinearSoftmaxClassifier()\n",
    "loss_history = classifier.fit(train_X, train_y, epochs=10, learning_rate=1e-3, batch_size=300, reg=1e1)\n"
   ]
  },
  {
   "cell_type": "code",
   "execution_count": 354,
   "metadata": {},
   "outputs": [
    {
     "data": {
      "text/plain": [
       "[<matplotlib.lines.Line2D at 0x7f1af107e690>]"
      ]
     },
     "execution_count": 354,
     "metadata": {},
     "output_type": "execute_result"
    },
    {
     "data": {
      "image/png": "[encoded data removed]",
      "text/plain": [
       "<Figure size 432x288 with 1 Axes>"
      ]
     },
     "metadata": {
      "needs_background": "light"
     },
     "output_type": "display_data"
    }
   ],
   "source": [
    "# let's look at the loss history!\n",
    "plt.plot(loss_history)"
   ]
  },
  {
   "cell_type": "code",
   "execution_count": 361,
   "metadata": {},
   "outputs": [
    {
     "name": "stdout",
     "output_type": "stream",
     "text": [
      "Accuracy:  0.147\n",
      "Epoch 0, loss: 2.301849\n",
      "Epoch 1, loss: 2.301851\n",
      "Epoch 2, loss: 2.301883\n",
      "Epoch 3, loss: 2.301866\n",
      "Epoch 4, loss: 2.301910\n",
      "Epoch 5, loss: 2.301893\n",
      "Epoch 6, loss: 2.301831\n",
      "Epoch 7, loss: 2.301876\n",
      "Epoch 8, loss: 2.301875\n",
      "Epoch 9, loss: 2.301871\n",
      "Epoch 10, loss: 2.301865\n",
      "Epoch 11, loss: 2.301897\n",
      "Epoch 12, loss: 2.301906\n",
      "Epoch 13, loss: 2.301902\n",
      "Epoch 14, loss: 2.301884\n",
      "Epoch 15, loss: 2.301851\n",
      "Epoch 16, loss: 2.301875\n",
      "Epoch 17, loss: 2.301863\n",
      "Epoch 18, loss: 2.301906\n",
      "Epoch 19, loss: 2.301880\n",
      "Epoch 20, loss: 2.301876\n",
      "Epoch 21, loss: 2.301888\n",
      "Epoch 22, loss: 2.301884\n",
      "Epoch 23, loss: 2.301848\n",
      "Epoch 24, loss: 2.301865\n",
      "Epoch 25, loss: 2.301877\n",
      "Epoch 26, loss: 2.301883\n",
      "Epoch 27, loss: 2.301842\n",
      "Epoch 28, loss: 2.301857\n",
      "Epoch 29, loss: 2.301892\n",
      "Epoch 30, loss: 2.301902\n",
      "Epoch 31, loss: 2.301878\n",
      "Epoch 32, loss: 2.301911\n",
      "Epoch 33, loss: 2.301840\n",
      "Epoch 34, loss: 2.301879\n",
      "Epoch 35, loss: 2.301881\n",
      "Epoch 36, loss: 2.301867\n",
      "Epoch 37, loss: 2.301880\n",
      "Epoch 38, loss: 2.301858\n",
      "Epoch 39, loss: 2.301900\n",
      "Epoch 40, loss: 2.301871\n",
      "Epoch 41, loss: 2.301872\n",
      "Epoch 42, loss: 2.301823\n",
      "Epoch 43, loss: 2.301860\n",
      "Epoch 44, loss: 2.301882\n",
      "Epoch 45, loss: 2.301876\n",
      "Epoch 46, loss: 2.301863\n",
      "Epoch 47, loss: 2.301849\n",
      "Epoch 48, loss: 2.301843\n",
      "Epoch 49, loss: 2.301855\n",
      "Epoch 50, loss: 2.301878\n",
      "Epoch 51, loss: 2.301876\n",
      "Epoch 52, loss: 2.301892\n",
      "Epoch 53, loss: 2.301890\n",
      "Epoch 54, loss: 2.301896\n",
      "Epoch 55, loss: 2.301864\n",
      "Epoch 56, loss: 2.301892\n",
      "Epoch 57, loss: 2.301844\n",
      "Epoch 58, loss: 2.301891\n",
      "Epoch 59, loss: 2.301888\n",
      "Epoch 60, loss: 2.301867\n",
      "Epoch 61, loss: 2.301871\n",
      "Epoch 62, loss: 2.301879\n",
      "Epoch 63, loss: 2.301854\n",
      "Epoch 64, loss: 2.301872\n",
      "Epoch 65, loss: 2.301868\n",
      "Epoch 66, loss: 2.301889\n",
      "Epoch 67, loss: 2.301858\n",
      "Epoch 68, loss: 2.301896\n",
      "Epoch 69, loss: 2.301864\n",
      "Epoch 70, loss: 2.301873\n",
      "Epoch 71, loss: 2.301861\n",
      "Epoch 72, loss: 2.301883\n",
      "Epoch 73, loss: 2.301857\n",
      "Epoch 74, loss: 2.301869\n",
      "Epoch 75, loss: 2.301878\n",
      "Epoch 76, loss: 2.301855\n",
      "Epoch 77, loss: 2.301831\n",
      "Epoch 78, loss: 2.301880\n",
      "Epoch 79, loss: 2.301877\n",
      "Epoch 80, loss: 2.301892\n",
      "Epoch 81, loss: 2.301872\n",
      "Epoch 82, loss: 2.301899\n",
      "Epoch 83, loss: 2.301868\n",
      "Epoch 84, loss: 2.301886\n",
      "Epoch 85, loss: 2.301899\n",
      "Epoch 86, loss: 2.301881\n",
      "Epoch 87, loss: 2.301878\n",
      "Epoch 88, loss: 2.301878\n",
      "Epoch 89, loss: 2.301899\n",
      "Epoch 90, loss: 2.301899\n",
      "Epoch 91, loss: 2.301873\n",
      "Epoch 92, loss: 2.301887\n",
      "Epoch 93, loss: 2.301860\n",
      "Epoch 94, loss: 2.301892\n",
      "Epoch 95, loss: 2.301901\n",
      "Epoch 96, loss: 2.301871\n",
      "Epoch 97, loss: 2.301871\n",
      "Epoch 98, loss: 2.301863\n",
      "Epoch 99, loss: 2.301855\n",
      "Accuracy after training for 100 epochs:  0.126\n"
     ]
    }
   ],
   "source": [
    "# Let's check how it performs on validation set\n",
    "pred = classifier.predict(val_X)\n",
    "accuracy = multiclass_accuracy(pred, val_y)\n",
    "print(\"Accuracy: \", accuracy)\n",
    "\n",
    "# Now, let's train more and see if it performs better\n",
    "classifier.fit(train_X, train_y, epochs=100, learning_rate=1e-3, batch_size=300, reg=1e1)\n",
    "pred = classifier.predict(val_X)\n",
    "accuracy = multiclass_accuracy(pred, val_y)\n",
    "print(\"Accuracy after training for 100 epochs: \", accuracy)"
   ]
  },
  {
   "cell_type": "markdown",
   "metadata": {},
   "source": [
    "### Как и раньше, используем кросс-валидацию для подбора гиперпараметтов.\n",
    "\n",
    "В этот раз, чтобы тренировка занимала разумное время, мы будем использовать только одно разделение на тренировочные (training) и проверочные (validation) данные.\n",
    "\n",
    "Теперь нам нужно подобрать не один, а два гиперпараметра! Не ограничивайте себя изначальными значениями в коде.  \n",
    "Добейтесь точности более чем **20%** на проверочных данных (validation data)."
   ]
  },
  {
   "cell_type": "code",
   "execution_count": 372,
   "metadata": {},
   "outputs": [],
   "source": [
    "num_epochs = 500\n",
    "batch_size = 300\n",
    "\n",
    "learning_rates = [1e-1]\n",
    "reg_strengths = [1e-4]\n",
    "\n",
    "classifiers = []\n",
    "accuracies = []\n",
    "\n",
    "best_classifier = None\n",
    "best_val_accuracy = None\n",
    "\n",
    "# TODO use validation set to find the best hyperparameters\n",
    "# hint: for best results, you might need to try more values for learning rate and regularization strength \n",
    "# than provided initially"
   ]
  },
  {
   "cell_type": "code",
   "execution_count": 373,
   "metadata": {},
   "outputs": [
    {
     "name": "stdout",
     "output_type": "stream",
     "text": [
      "\n",
      "### (0, 0) lr=0.100000 reg=0.000100\n",
      "Epoch 0, loss: 2.279317\n",
      "Epoch 1, loss: 2.229765\n",
      "Epoch 2, loss: 2.202375\n",
      "Epoch 3, loss: 2.185545\n",
      "Epoch 4, loss: 2.169127\n",
      "Epoch 5, loss: 2.161537\n",
      "Epoch 6, loss: 2.156172\n",
      "Epoch 7, loss: 2.151952\n",
      "Epoch 8, loss: 2.146551\n",
      "Epoch 9, loss: 2.143885\n",
      "Epoch 10, loss: 2.137148\n",
      "Epoch 11, loss: 2.134259\n",
      "Epoch 12, loss: 2.131709\n",
      "Epoch 13, loss: 2.129049\n",
      "Epoch 14, loss: 2.126143\n",
      "Epoch 15, loss: 2.125022\n",
      "Epoch 16, loss: 2.117096\n",
      "Epoch 17, loss: 2.117970\n",
      "Epoch 18, loss: 2.120615\n",
      "Epoch 19, loss: 2.116491\n",
      "Epoch 20, loss: 2.114390\n",
      "Epoch 21, loss: 2.108641\n",
      "Epoch 22, loss: 2.104365\n",
      "Epoch 23, loss: 2.104968\n",
      "Epoch 24, loss: 2.110290\n",
      "Epoch 25, loss: 2.104470\n",
      "Epoch 26, loss: 2.100218\n",
      "Epoch 27, loss: 2.103011\n",
      "Epoch 28, loss: 2.098334\n",
      "Epoch 29, loss: 2.099672\n",
      "Epoch 30, loss: 2.097486\n",
      "Epoch 31, loss: 2.096537\n",
      "Epoch 32, loss: 2.093375\n",
      "Epoch 33, loss: 2.091157\n",
      "Epoch 34, loss: 2.094700\n",
      "Epoch 35, loss: 2.093461\n",
      "Epoch 36, loss: 2.092688\n",
      "Epoch 37, loss: 2.093108\n",
      "Epoch 38, loss: 2.088841\n",
      "Epoch 39, loss: 2.087008\n",
      "Epoch 40, loss: 2.090254\n",
      "Epoch 41, loss: 2.088202\n",
      "Epoch 42, loss: 2.090399\n",
      "Epoch 43, loss: 2.086376\n",
      "Epoch 44, loss: 2.082341\n",
      "Epoch 45, loss: 2.083557\n",
      "Epoch 46, loss: 2.080065\n",
      "Epoch 47, loss: 2.083488\n",
      "Epoch 48, loss: 2.083223\n",
      "Epoch 49, loss: 2.084579\n",
      "Epoch 50, loss: 2.081000\n",
      "Epoch 51, loss: 2.080309\n",
      "Epoch 52, loss: 2.078753\n",
      "Epoch 53, loss: 2.081148\n",
      "Epoch 54, loss: 2.073650\n",
      "Epoch 55, loss: 2.077629\n",
      "Epoch 56, loss: 2.078912\n",
      "Epoch 57, loss: 2.074944\n",
      "Epoch 58, loss: 2.076436\n",
      "Epoch 59, loss: 2.075682\n",
      "Epoch 60, loss: 2.073878\n",
      "Epoch 61, loss: 2.075004\n",
      "Epoch 62, loss: 2.071549\n",
      "Epoch 63, loss: 2.071480\n",
      "Epoch 64, loss: 2.069515\n",
      "Epoch 65, loss: 2.068918\n",
      "Epoch 66, loss: 2.067065\n",
      "Epoch 67, loss: 2.068903\n",
      "Epoch 68, loss: 2.070390\n",
      "Epoch 69, loss: 2.067427\n",
      "Epoch 70, loss: 2.067286\n",
      "Epoch 71, loss: 2.067139\n",
      "Epoch 72, loss: 2.062521\n",
      "Epoch 73, loss: 2.063376\n",
      "Epoch 74, loss: 2.066010\n",
      "Epoch 75, loss: 2.063918\n",
      "Epoch 76, loss: 2.065476\n",
      "Epoch 77, loss: 2.065817\n",
      "Epoch 78, loss: 2.064987\n",
      "Epoch 79, loss: 2.061855\n",
      "Epoch 80, loss: 2.061820\n",
      "Epoch 81, loss: 2.062273\n",
      "Epoch 82, loss: 2.059582\n",
      "Epoch 83, loss: 2.059105\n",
      "Epoch 84, loss: 2.057359\n",
      "Epoch 85, loss: 2.058384\n",
      "Epoch 86, loss: 2.060876\n",
      "Epoch 87, loss: 2.058769\n",
      "Epoch 88, loss: 2.060555\n",
      "Epoch 89, loss: 2.057853\n",
      "Epoch 90, loss: 2.055345\n",
      "Epoch 91, loss: 2.053062\n",
      "Epoch 92, loss: 2.059389\n",
      "Epoch 93, loss: 2.055480\n",
      "Epoch 94, loss: 2.054547\n",
      "Epoch 95, loss: 2.053279\n",
      "Epoch 96, loss: 2.058197\n",
      "Epoch 97, loss: 2.057478\n",
      "Epoch 98, loss: 2.053963\n",
      "Epoch 99, loss: 2.051025\n",
      "Epoch 100, loss: 2.052378\n",
      "Epoch 101, loss: 2.049540\n",
      "Epoch 102, loss: 2.049941\n",
      "Epoch 103, loss: 2.052869\n",
      "Epoch 104, loss: 2.053122\n",
      "Epoch 105, loss: 2.050342\n",
      "Epoch 106, loss: 2.051381\n",
      "Epoch 107, loss: 2.048079\n",
      "Epoch 108, loss: 2.053068\n",
      "Epoch 109, loss: 2.049842\n",
      "Epoch 110, loss: 2.051808\n",
      "Epoch 111, loss: 2.047457\n",
      "Epoch 112, loss: 2.043502\n",
      "Epoch 113, loss: 2.046193\n",
      "Epoch 114, loss: 2.047963\n",
      "Epoch 115, loss: 2.047534\n",
      "Epoch 116, loss: 2.045026\n",
      "Epoch 117, loss: 2.046363\n",
      "Epoch 118, loss: 2.048448\n",
      "Epoch 119, loss: 2.045505\n",
      "Epoch 120, loss: 2.043057\n",
      "Epoch 121, loss: 2.049337\n",
      "Epoch 122, loss: 2.045765\n",
      "Epoch 123, loss: 2.048213\n",
      "Epoch 124, loss: 2.042027\n",
      "Epoch 125, loss: 2.041666\n",
      "Epoch 126, loss: 2.039684\n",
      "Epoch 127, loss: 2.040659\n",
      "Epoch 128, loss: 2.043351\n",
      "Epoch 129, loss: 2.038925\n",
      "Epoch 130, loss: 2.043648\n",
      "Epoch 131, loss: 2.039708\n",
      "Epoch 132, loss: 2.040074\n",
      "Epoch 133, loss: 2.041558\n",
      "Epoch 134, loss: 2.039234\n",
      "Epoch 135, loss: 2.042070\n",
      "Epoch 136, loss: 2.039638\n",
      "Epoch 137, loss: 2.038218\n",
      "Epoch 138, loss: 2.039522\n",
      "Epoch 139, loss: 2.036782\n",
      "Epoch 140, loss: 2.038689\n",
      "Epoch 141, loss: 2.039208\n",
      "Epoch 142, loss: 2.035584\n",
      "Epoch 143, loss: 2.037120\n",
      "Epoch 144, loss: 2.036895\n",
      "Epoch 145, loss: 2.033566\n",
      "Epoch 146, loss: 2.039026\n",
      "Epoch 147, loss: 2.037582\n",
      "Epoch 148, loss: 2.037639\n",
      "Epoch 149, loss: 2.033656\n",
      "Epoch 150, loss: 2.035108\n",
      "Epoch 151, loss: 2.036566\n",
      "Epoch 152, loss: 2.036249\n",
      "Epoch 153, loss: 2.035361\n",
      "Epoch 154, loss: 2.036855\n",
      "Epoch 155, loss: 2.031250\n",
      "Epoch 156, loss: 2.033412\n",
      "Epoch 157, loss: 2.032763\n",
      "Epoch 158, loss: 2.034146\n",
      "Epoch 159, loss: 2.030930\n",
      "Epoch 160, loss: 2.035296\n",
      "Epoch 161, loss: 2.032010\n",
      "Epoch 162, loss: 2.033361\n",
      "Epoch 163, loss: 2.034296\n",
      "Epoch 164, loss: 2.030222\n",
      "Epoch 165, loss: 2.032503\n",
      "Epoch 166, loss: 2.030956\n",
      "Epoch 167, loss: 2.032541\n",
      "Epoch 168, loss: 2.029628\n",
      "Epoch 169, loss: 2.033348\n",
      "Epoch 170, loss: 2.028396\n",
      "Epoch 171, loss: 2.027262\n",
      "Epoch 172, loss: 2.028610\n",
      "Epoch 173, loss: 2.030495\n",
      "Epoch 174, loss: 2.028767\n",
      "Epoch 175, loss: 2.033470\n",
      "Epoch 176, loss: 2.028241\n",
      "Epoch 177, loss: 2.030234\n",
      "Epoch 178, loss: 2.026267\n",
      "Epoch 179, loss: 2.027847\n",
      "Epoch 180, loss: 2.030084\n",
      "Epoch 181, loss: 2.029929\n",
      "Epoch 182, loss: 2.027894\n",
      "Epoch 183, loss: 2.026744\n",
      "Epoch 184, loss: 2.030250\n",
      "Epoch 185, loss: 2.027265\n",
      "Epoch 186, loss: 2.023276\n",
      "Epoch 187, loss: 2.027936\n",
      "Epoch 188, loss: 2.025918\n",
      "Epoch 189, loss: 2.024124\n",
      "Epoch 190, loss: 2.025618\n",
      "Epoch 191, loss: 2.026130\n",
      "Epoch 192, loss: 2.026566\n",
      "Epoch 193, loss: 2.019844\n",
      "Epoch 194, loss: 2.024358\n",
      "Epoch 195, loss: 2.028121\n",
      "Epoch 196, loss: 2.025198\n",
      "Epoch 197, loss: 2.027260\n",
      "Epoch 198, loss: 2.023991\n",
      "Epoch 199, loss: 2.023979\n",
      "Epoch 200, loss: 2.023018\n",
      "Epoch 201, loss: 2.021618\n",
      "Epoch 202, loss: 2.022608\n",
      "Epoch 203, loss: 2.022968\n",
      "Epoch 204, loss: 2.024553\n",
      "Epoch 205, loss: 2.022235\n",
      "Epoch 206, loss: 2.023339\n",
      "Epoch 207, loss: 2.020410\n",
      "Epoch 208, loss: 2.020526\n",
      "Epoch 209, loss: 2.021525\n",
      "Epoch 210, loss: 2.020377\n",
      "Epoch 211, loss: 2.018506\n",
      "Epoch 212, loss: 2.018903\n",
      "Epoch 213, loss: 2.018428\n",
      "Epoch 214, loss: 2.021353\n",
      "Epoch 215, loss: 2.019094\n",
      "Epoch 216, loss: 2.021110\n",
      "Epoch 217, loss: 2.023166\n",
      "Epoch 218, loss: 2.015211\n",
      "Epoch 219, loss: 2.017767\n",
      "Epoch 220, loss: 2.017599\n",
      "Epoch 221, loss: 2.019826\n",
      "Epoch 222, loss: 2.022286\n",
      "Epoch 223, loss: 2.019140\n",
      "Epoch 224, loss: 2.017838\n",
      "Epoch 225, loss: 2.018443\n",
      "Epoch 226, loss: 2.015709\n",
      "Epoch 227, loss: 2.018195\n",
      "Epoch 228, loss: 2.016139\n",
      "Epoch 229, loss: 2.016805\n",
      "Epoch 230, loss: 2.015600\n",
      "Epoch 231, loss: 2.013641\n",
      "Epoch 232, loss: 2.018093\n",
      "Epoch 233, loss: 2.022262\n",
      "Epoch 234, loss: 2.017687\n",
      "Epoch 235, loss: 2.017514\n",
      "Epoch 236, loss: 2.013270\n",
      "Epoch 237, loss: 2.016374\n",
      "Epoch 238, loss: 2.016298\n",
      "Epoch 239, loss: 2.012622\n",
      "Epoch 240, loss: 2.012406\n",
      "Epoch 241, loss: 2.015507\n",
      "Epoch 242, loss: 2.018487\n",
      "Epoch 243, loss: 2.014895\n",
      "Epoch 244, loss: 2.012269\n",
      "Epoch 245, loss: 2.017659\n",
      "Epoch 246, loss: 2.016201\n",
      "Epoch 247, loss: 2.017148\n",
      "Epoch 248, loss: 2.012845\n",
      "Epoch 249, loss: 2.016222\n",
      "Epoch 250, loss: 2.012957\n",
      "Epoch 251, loss: 2.013744\n",
      "Epoch 252, loss: 2.016225\n",
      "Epoch 253, loss: 2.008809\n",
      "Epoch 254, loss: 2.013910\n",
      "Epoch 255, loss: 2.012645\n",
      "Epoch 256, loss: 2.014159\n",
      "Epoch 257, loss: 2.011908\n",
      "Epoch 258, loss: 2.012431\n",
      "Epoch 259, loss: 2.011747\n",
      "Epoch 260, loss: 2.012075\n",
      "Epoch 261, loss: 2.013756\n",
      "Epoch 262, loss: 2.010013\n",
      "Epoch 263, loss: 2.012382\n",
      "Epoch 264, loss: 2.011466\n",
      "Epoch 265, loss: 2.011100\n",
      "Epoch 266, loss: 2.009909\n",
      "Epoch 267, loss: 2.012800\n",
      "Epoch 268, loss: 2.013533\n",
      "Epoch 269, loss: 2.009463\n",
      "Epoch 270, loss: 2.009538\n",
      "Epoch 271, loss: 2.011403\n",
      "Epoch 272, loss: 2.007306\n",
      "Epoch 273, loss: 2.011404\n",
      "Epoch 274, loss: 2.010977\n",
      "Epoch 275, loss: 2.009853\n",
      "Epoch 276, loss: 2.013503\n",
      "Epoch 277, loss: 2.009897\n",
      "Epoch 278, loss: 2.014229\n",
      "Epoch 279, loss: 2.003420\n",
      "Epoch 280, loss: 2.008339\n",
      "Epoch 281, loss: 2.008280\n",
      "Epoch 282, loss: 2.007904\n",
      "Epoch 283, loss: 2.009294\n",
      "Epoch 284, loss: 2.008754\n",
      "Epoch 285, loss: 2.007793\n",
      "Epoch 286, loss: 2.007832\n",
      "Epoch 287, loss: 2.011154\n",
      "Epoch 288, loss: 2.006949\n",
      "Epoch 289, loss: 2.011631\n",
      "Epoch 290, loss: 2.007940\n",
      "Epoch 291, loss: 2.005407\n",
      "Epoch 292, loss: 2.002959\n",
      "Epoch 293, loss: 2.006196\n",
      "Epoch 294, loss: 2.010140\n",
      "Epoch 295, loss: 2.006798\n",
      "Epoch 296, loss: 2.005598\n",
      "Epoch 297, loss: 2.005228\n",
      "Epoch 298, loss: 2.003632\n",
      "Epoch 299, loss: 2.005545\n",
      "Epoch 300, loss: 2.006106\n",
      "Epoch 301, loss: 2.005446\n",
      "Epoch 302, loss: 2.005988\n",
      "Epoch 303, loss: 2.007331\n",
      "Epoch 304, loss: 2.006717\n",
      "Epoch 305, loss: 2.008915\n",
      "Epoch 306, loss: 2.005480\n",
      "Epoch 307, loss: 2.004304\n",
      "Epoch 308, loss: 2.003961\n",
      "Epoch 309, loss: 2.005440\n",
      "Epoch 310, loss: 2.005547\n",
      "Epoch 311, loss: 2.001524\n",
      "Epoch 312, loss: 2.003825\n",
      "Epoch 313, loss: 2.005312\n",
      "Epoch 314, loss: 2.001367\n",
      "Epoch 315, loss: 2.008057\n",
      "Epoch 316, loss: 2.005937\n",
      "Epoch 317, loss: 2.002959\n"
     ]
    },
    {
     "name": "stdout",
     "output_type": "stream",
     "text": [
      "Epoch 318, loss: 2.003786\n",
      "Epoch 319, loss: 2.004929\n",
      "Epoch 320, loss: 2.002808\n",
      "Epoch 321, loss: 2.002948\n",
      "Epoch 322, loss: 2.001985\n",
      "Epoch 323, loss: 2.005360\n",
      "Epoch 324, loss: 2.008301\n",
      "Epoch 325, loss: 2.004340\n",
      "Epoch 326, loss: 2.002184\n",
      "Epoch 327, loss: 2.001147\n",
      "Epoch 328, loss: 2.003299\n",
      "Epoch 329, loss: 2.003039\n",
      "Epoch 330, loss: 2.006001\n",
      "Epoch 331, loss: 2.001198\n",
      "Epoch 332, loss: 2.004037\n",
      "Epoch 333, loss: 2.002306\n",
      "Epoch 334, loss: 2.003058\n",
      "Epoch 335, loss: 2.002203\n",
      "Epoch 336, loss: 2.002837\n",
      "Epoch 337, loss: 2.005417\n",
      "Epoch 338, loss: 2.001729\n",
      "Epoch 339, loss: 1.998937\n",
      "Epoch 340, loss: 2.003705\n",
      "Epoch 341, loss: 2.004851\n",
      "Epoch 342, loss: 1.999722\n",
      "Epoch 343, loss: 2.003917\n",
      "Epoch 344, loss: 1.999755\n",
      "Epoch 345, loss: 2.002393\n",
      "Epoch 346, loss: 1.998723\n",
      "Epoch 347, loss: 2.005120\n",
      "Epoch 348, loss: 2.004074\n",
      "Epoch 349, loss: 1.998612\n",
      "Epoch 350, loss: 2.000077\n",
      "Epoch 351, loss: 1.998612\n",
      "Epoch 352, loss: 2.000557\n",
      "Epoch 353, loss: 2.001275\n",
      "Epoch 354, loss: 1.999017\n",
      "Epoch 355, loss: 2.000349\n",
      "Epoch 356, loss: 1.999583\n",
      "Epoch 357, loss: 2.001885\n",
      "Epoch 358, loss: 1.999267\n",
      "Epoch 359, loss: 1.999373\n",
      "Epoch 360, loss: 2.002583\n",
      "Epoch 361, loss: 1.996961\n",
      "Epoch 362, loss: 1.997816\n",
      "Epoch 363, loss: 1.996297\n",
      "Epoch 364, loss: 1.999534\n",
      "Epoch 365, loss: 1.996806\n",
      "Epoch 366, loss: 2.000206\n",
      "Epoch 367, loss: 1.997087\n",
      "Epoch 368, loss: 2.001362\n",
      "Epoch 369, loss: 1.997846\n",
      "Epoch 370, loss: 1.996307\n",
      "Epoch 371, loss: 1.996043\n",
      "Epoch 372, loss: 1.996825\n",
      "Epoch 373, loss: 1.998590\n",
      "Epoch 374, loss: 1.996396\n",
      "Epoch 375, loss: 1.994221\n",
      "Epoch 376, loss: 1.995597\n",
      "Epoch 377, loss: 2.001441\n",
      "Epoch 378, loss: 1.997318\n",
      "Epoch 379, loss: 1.999403\n",
      "Epoch 380, loss: 1.998048\n",
      "Epoch 381, loss: 1.997767\n",
      "Epoch 382, loss: 1.994509\n",
      "Epoch 383, loss: 2.000030\n",
      "Epoch 384, loss: 1.994045\n",
      "Epoch 385, loss: 1.995710\n",
      "Epoch 386, loss: 1.996525\n",
      "Epoch 387, loss: 1.996390\n",
      "Epoch 388, loss: 1.996946\n",
      "Epoch 389, loss: 1.992695\n",
      "Epoch 390, loss: 2.002612\n",
      "Epoch 391, loss: 1.996597\n",
      "Epoch 392, loss: 1.994310\n",
      "Epoch 393, loss: 1.999218\n",
      "Epoch 394, loss: 1.994910\n",
      "Epoch 395, loss: 1.993197\n",
      "Epoch 396, loss: 1.993878\n",
      "Epoch 397, loss: 1.995185\n",
      "Epoch 398, loss: 1.995447\n",
      "Epoch 399, loss: 1.995765\n",
      "Epoch 400, loss: 1.996176\n",
      "Epoch 401, loss: 1.995440\n",
      "Epoch 402, loss: 1.996680\n",
      "Epoch 403, loss: 1.996487\n",
      "Epoch 404, loss: 1.999598\n",
      "Epoch 405, loss: 1.996412\n",
      "Epoch 406, loss: 1.998091\n",
      "Epoch 407, loss: 1.991390\n",
      "Epoch 408, loss: 1.994793\n",
      "Epoch 409, loss: 1.992844\n",
      "Epoch 410, loss: 1.996033\n",
      "Epoch 411, loss: 1.995524\n",
      "Epoch 412, loss: 1.994330\n",
      "Epoch 413, loss: 1.992326\n",
      "Epoch 414, loss: 1.995606\n",
      "Epoch 415, loss: 1.992321\n",
      "Epoch 416, loss: 1.991477\n",
      "Epoch 417, loss: 1.997392\n",
      "Epoch 418, loss: 1.995700\n",
      "Epoch 419, loss: 1.993446\n",
      "Epoch 420, loss: 1.990139\n",
      "Epoch 421, loss: 1.994387\n",
      "Epoch 422, loss: 1.996877\n",
      "Epoch 423, loss: 1.992932\n",
      "Epoch 424, loss: 1.994817\n",
      "Epoch 425, loss: 1.991546\n",
      "Epoch 426, loss: 1.991192\n",
      "Epoch 427, loss: 1.994088\n",
      "Epoch 428, loss: 1.989232\n",
      "Epoch 429, loss: 1.989256\n",
      "Epoch 430, loss: 1.997159\n",
      "Epoch 431, loss: 1.992200\n",
      "Epoch 432, loss: 1.993633\n",
      "Epoch 433, loss: 1.993209\n",
      "Epoch 434, loss: 1.993102\n",
      "Epoch 435, loss: 1.992656\n",
      "Epoch 436, loss: 1.989991\n",
      "Epoch 437, loss: 1.993053\n",
      "Epoch 438, loss: 1.991521\n",
      "Epoch 439, loss: 1.994307\n",
      "Epoch 440, loss: 1.991251\n",
      "Epoch 441, loss: 1.993468\n",
      "Epoch 442, loss: 1.992549\n",
      "Epoch 443, loss: 1.993094\n",
      "Epoch 444, loss: 1.990402\n",
      "Epoch 445, loss: 1.992530\n",
      "Epoch 446, loss: 1.990440\n",
      "Epoch 447, loss: 1.994573\n",
      "Epoch 448, loss: 1.991590\n",
      "Epoch 449, loss: 1.989208\n",
      "Epoch 450, loss: 1.992305\n",
      "Epoch 451, loss: 1.992416\n",
      "Epoch 452, loss: 1.991661\n",
      "Epoch 453, loss: 1.988481\n",
      "Epoch 454, loss: 1.992034\n",
      "Epoch 455, loss: 1.991021\n",
      "Epoch 456, loss: 1.989010\n",
      "Epoch 457, loss: 1.991009\n",
      "Epoch 458, loss: 1.994640\n",
      "Epoch 459, loss: 1.992729\n",
      "Epoch 460, loss: 1.994725\n",
      "Epoch 461, loss: 1.992606\n",
      "Epoch 462, loss: 1.992586\n",
      "Epoch 463, loss: 1.992529\n",
      "Epoch 464, loss: 1.988653\n",
      "Epoch 465, loss: 1.992085\n",
      "Epoch 466, loss: 1.991768\n",
      "Epoch 467, loss: 1.992391\n",
      "Epoch 468, loss: 1.990098\n",
      "Epoch 469, loss: 1.990625\n",
      "Epoch 470, loss: 1.990713\n",
      "Epoch 471, loss: 1.989880\n",
      "Epoch 472, loss: 1.989078\n",
      "Epoch 473, loss: 1.989404\n",
      "Epoch 474, loss: 1.988446\n",
      "Epoch 475, loss: 1.987495\n",
      "Epoch 476, loss: 1.992224\n",
      "Epoch 477, loss: 1.991802\n",
      "Epoch 478, loss: 1.990226\n",
      "Epoch 479, loss: 1.991800\n",
      "Epoch 480, loss: 1.993838\n",
      "Epoch 481, loss: 1.985164\n",
      "Epoch 482, loss: 1.985463\n",
      "Epoch 483, loss: 1.989139\n",
      "Epoch 484, loss: 1.988254\n",
      "Epoch 485, loss: 1.983924\n",
      "Epoch 486, loss: 1.985915\n",
      "Epoch 487, loss: 1.990424\n",
      "Epoch 488, loss: 1.985698\n",
      "Epoch 489, loss: 1.987359\n",
      "Epoch 490, loss: 1.988398\n",
      "Epoch 491, loss: 1.986779\n",
      "Epoch 492, loss: 1.987282\n",
      "Epoch 493, loss: 1.988288\n",
      "Epoch 494, loss: 1.989777\n",
      "Epoch 495, loss: 1.988713\n",
      "Epoch 496, loss: 1.990083\n",
      "Epoch 497, loss: 1.985148\n",
      "Epoch 498, loss: 1.987930\n",
      "Epoch 499, loss: 1.988865\n"
     ]
    }
   ],
   "source": [
    "for lr_idx, lr in enumerate(learning_rates):\n",
    "    for reg_idx, reg in enumerate(reg_strengths):\n",
    "        print(\"\\n### (%i, %i) lr=%f reg=%f\" % (lr_idx, reg_idx, lr, reg))\n",
    "        classifier = linear_classifer.LinearSoftmaxClassifier()\n",
    "        classifiers.append(classifier)\n",
    "        classifier.fit(train_X, train_y, epochs=num_epochs, learning_rate=lr, batch_size=batch_size, reg=reg)\n",
    "        pred = classifier.predict(val_X)\n",
    "        accuracy = multiclass_accuracy(pred, val_y)\n",
    "        accuracies.append(accuracy)"
   ]
  },
  {
   "cell_type": "code",
   "execution_count": 374,
   "metadata": {},
   "outputs": [
    {
     "name": "stdout",
     "output_type": "stream",
     "text": [
      "[0.343]\n",
      "best validation accuracy achieved: 0.343000\n"
     ]
    }
   ],
   "source": [
    "print(accuracies)\n",
    "best_idx = np.argmax(accuracies)\n",
    "best_classifier = classifiers[best_idx]\n",
    "best_val_accuracy = accuracies[best_idx]\n",
    "print('best validation accuracy achieved: %f' % best_val_accuracy)"
   ]
  },
  {
   "cell_type": "markdown",
   "metadata": {},
   "source": [
    "# Какой же точности мы добились на тестовых данных?"
   ]
  },
  {
   "cell_type": "code",
   "execution_count": 397,
   "metadata": {},
   "outputs": [
    {
     "name": "stdout",
     "output_type": "stream",
     "text": [
      "Linear softmax classifier test set accuracy: 0.218000\n"
     ]
    }
   ],
   "source": [
    "test_pred = best_classifier.predict(test_X)\n",
    "test_accuracy = multiclass_accuracy(test_pred, test_y)\n",
    "print('Linear softmax classifier test set accuracy: %f' % (test_accuracy, ))"
   ]
  }
 ],
 "metadata": {
  "hide_input": false,
  "kernelspec": {
   "display_name": "Python 3",
   "language": "python",
   "name": "python3"
  },
  "language_info": {
   "codemirror_mode": {
    "name": "ipython",
    "version": 3
   },
   "file_extension": ".py",
   "mimetype": "text/x-python",
   "name": "python",
   "nbconvert_exporter": "python",
   "pygments_lexer": "ipython3",
   "version": "3.7.5"
  },
  "toc": {
   "base_numbering": 1,
   "nav_menu": {},
   "number_sections": true,
   "sideBar": true,
   "skip_h1_title": false,
   "title_cell": "Table of Contents",
   "title_sidebar": "Contents",
   "toc_cell": false,
   "toc_position": {},
   "toc_section_display": true,
   "toc_window_display": false
  },
  "varInspector": {
   "cols": {
    "lenName": 16,
    "lenType": 16,
    "lenVar": 40
   },
   "kernels_config": {
    "python": {
     "delete_cmd_postfix": "",
     "delete_cmd_prefix": "del ",
     "library": "var_list.py",
     "varRefreshCmd": "print(var_dic_list())"
    },
    "r": {
     "delete_cmd_postfix": ") ",
     "delete_cmd_prefix": "rm(",
     "library": "var_list.r",
     "varRefreshCmd": "cat(var_dic_list()) "
    }
   },
   "position": {
    "height": "384px",
    "left": "1033px",
    "right": "20px",
    "top": "90px",
    "width": "600px"
   },
   "types_to_exclude": [
    "module",
    "function",
    "builtin_function_or_method",
    "instance",
    "_Feature"
   ],
   "window_display": false
  }
 },
 "nbformat": 4,
 "nbformat_minor": 2
}
