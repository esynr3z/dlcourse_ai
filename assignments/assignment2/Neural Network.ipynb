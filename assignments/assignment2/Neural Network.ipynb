{
 "cells": [
  {
   "cell_type": "markdown",
   "metadata": {},
   "source": [
    "# Задание 2.1 - Нейронные сети\n",
    "\n",
    "В этом задании вы реализуете и натренируете настоящую нейроную сеть своими руками!\n",
    "\n",
    "В некотором смысле это будет расширением прошлого задания - нам нужно просто составить несколько линейных классификаторов вместе!\n",
    "\n",
    "<img src=\"https://i.redd.it/n9fgba8b0qr01.png\" alt=\"Stack_more_layers\" width=\"400px\"/>"
   ]
  },
  {
   "cell_type": "code",
   "execution_count": 1,
   "metadata": {},
   "outputs": [],
   "source": [
    "import numpy as np\n",
    "import matplotlib.pyplot as plt\n",
    "\n",
    "%matplotlib inline\n",
    "\n",
    "%load_ext autoreload\n",
    "%autoreload 2"
   ]
  },
  {
   "cell_type": "code",
   "execution_count": 2,
   "metadata": {},
   "outputs": [],
   "source": [
    "from dataset import load_svhn, random_split_train_val\n",
    "from gradient_check import check_layer_gradient, check_layer_param_gradient, check_model_gradient\n",
    "from layers import FullyConnectedLayer, ReLULayer\n",
    "from model import TwoLayerNet\n",
    "from trainer import Trainer, Dataset\n",
    "from optim import SGD, MomentumSGD\n",
    "from metrics import multiclass_accuracy"
   ]
  },
  {
   "cell_type": "markdown",
   "metadata": {},
   "source": [
    "# Загружаем данные\n",
    "\n",
    "И разделяем их на training и validation."
   ]
  },
  {
   "cell_type": "code",
   "execution_count": 3,
   "metadata": {},
   "outputs": [],
   "source": [
    "def prepare_for_neural_network(train_X, test_X):\n",
    "    train_flat = train_X.reshape(train_X.shape[0], -1).astype(np.float) / 255.0\n",
    "    test_flat = test_X.reshape(test_X.shape[0], -1).astype(np.float) / 255.0\n",
    "    \n",
    "    # Subtract mean\n",
    "    mean_image = np.mean(train_flat, axis = 0)\n",
    "    train_flat -= mean_image\n",
    "    test_flat -= mean_image\n",
    "    \n",
    "    return train_flat, test_flat\n",
    "    \n",
    "train_X, train_y, test_X, test_y = load_svhn(\"data\", max_train=10000, max_test=1000)    \n",
    "train_X, test_X = prepare_for_neural_network(train_X, test_X)\n",
    "# Split train into train and val\n",
    "train_X, train_y, val_X, val_y = random_split_train_val(train_X, train_y, num_val = 1000)"
   ]
  },
  {
   "cell_type": "markdown",
   "metadata": {},
   "source": [
    "# Как всегда, начинаем с кирпичиков\n",
    "\n",
    "Мы будем реализовывать необходимые нам слои по очереди. Каждый слой должен реализовать:\n",
    "- прямой проход (forward pass), который генерирует выход слоя по входу и запоминает необходимые данные\n",
    "- обратный проход (backward pass), который получает градиент по выходу слоя и вычисляет градиент по входу и по параметрам\n",
    "\n",
    "Начнем с ReLU, у которого параметров нет."
   ]
  },
  {
   "cell_type": "code",
   "execution_count": 179,
   "metadata": {
    "scrolled": false
   },
   "outputs": [
    {
     "name": "stdout",
     "output_type": "stream",
     "text": [
      "Gradient check passed!\n"
     ]
    }
   ],
   "source": [
    "# TODO: Implement ReLULayer layer in layers.py\n",
    "# Note: you'll need to copy implementation of the gradient_check function from the previous assignment\n",
    "\n",
    "X = np.array([[1,-2,3],\n",
    "              [-1, 2, 0.1]\n",
    "              ])\n",
    "\n",
    "assert check_layer_gradient(ReLULayer(), X)"
   ]
  },
  {
   "cell_type": "markdown",
   "metadata": {},
   "source": [
    "А теперь реализуем полносвязный слой (fully connected layer), у которого будет два массива параметров: W (weights) и B (bias).\n",
    "\n",
    "Все параметры наши слои будут использовать для параметров специальный класс `Param`, в котором будут храниться значения параметров и градиенты этих параметров, вычисляемые во время обратного прохода.\n",
    "\n",
    "Это даст возможность аккумулировать (суммировать) градиенты из разных частей функции потерь, например, из cross-entropy loss и regularization loss."
   ]
  },
  {
   "cell_type": "code",
   "execution_count": 155,
   "metadata": {},
   "outputs": [
    {
     "name": "stdout",
     "output_type": "stream",
     "text": [
      "Gradient check passed!\n",
      "Gradient check passed!\n",
      "Gradient check passed!\n"
     ]
    }
   ],
   "source": [
    "# TODO: Implement FullyConnected layer forward and backward methods\n",
    "assert check_layer_gradient(FullyConnectedLayer(3, 4), X)\n",
    "# TODO: Implement storing gradients for W and B\n",
    "assert check_layer_param_gradient(FullyConnectedLayer(3, 4), X, 'W')\n",
    "assert check_layer_param_gradient(FullyConnectedLayer(3, 4), X, 'B')"
   ]
  },
  {
   "cell_type": "markdown",
   "metadata": {},
   "source": [
    "## Создаем нейронную сеть\n",
    "\n",
    "Теперь мы реализуем простейшую нейронную сеть с двумя полносвязным слоями и нелинейностью ReLU. Реализуйте функцию `compute_loss_and_gradients`, она должна запустить прямой и обратный проход через оба слоя для вычисления градиентов.\n",
    "\n",
    "Не забудьте реализовать очистку градиентов в начале функции."
   ]
  },
  {
   "cell_type": "code",
   "execution_count": 156,
   "metadata": {},
   "outputs": [
    {
     "name": "stdout",
     "output_type": "stream",
     "text": [
      "Checking gradient for W_L0_FC\n",
      "Gradient check passed!\n",
      "Checking gradient for B_L0_FC\n",
      "Gradient check passed!\n",
      "Checking gradient for W_L2_FC\n",
      "Gradient check passed!\n",
      "Checking gradient for B_L2_FC\n",
      "Gradient check passed!\n"
     ]
    },
    {
     "data": {
      "text/plain": [
       "True"
      ]
     },
     "execution_count": 156,
     "metadata": {},
     "output_type": "execute_result"
    }
   ],
   "source": [
    "# TODO: In model.py, implement compute_loss_and_gradients function\n",
    "model = TwoLayerNet(n_input = train_X.shape[1], n_output = 10, hidden_layer_size = 3, reg = 0)\n",
    "loss = model.compute_loss_and_gradients(train_X[:2], train_y[:2])\n",
    "\n",
    "# TODO Now implement backward pass and aggregate all of the params\n",
    "check_model_gradient(model, train_X[:2], train_y[:2])"
   ]
  },
  {
   "cell_type": "markdown",
   "metadata": {},
   "source": [
    "Теперь добавьте к модели регуляризацию - она должна прибавляться к loss и делать свой вклад в градиенты."
   ]
  },
  {
   "cell_type": "code",
   "execution_count": 157,
   "metadata": {},
   "outputs": [
    {
     "name": "stdout",
     "output_type": "stream",
     "text": [
      "Checking gradient for W_L0_FC\n",
      "Gradient check passed!\n",
      "Checking gradient for B_L0_FC\n",
      "Gradient check passed!\n",
      "Checking gradient for W_L2_FC\n",
      "Gradient check passed!\n",
      "Checking gradient for B_L2_FC\n",
      "Gradient check passed!\n"
     ]
    },
    {
     "data": {
      "text/plain": [
       "True"
      ]
     },
     "execution_count": 157,
     "metadata": {},
     "output_type": "execute_result"
    }
   ],
   "source": [
    "# TODO Now implement l2 regularization in the forward and backward pass\n",
    "model_with_reg = TwoLayerNet(n_input = train_X.shape[1], n_output = 10, hidden_layer_size = 3, reg = 1e1)\n",
    "loss_with_reg = model_with_reg.compute_loss_and_gradients(train_X[:2], train_y[:2])\n",
    "assert loss_with_reg > loss and not np.isclose(loss_with_reg, loss), \\\n",
    "    \"Loss with regularization (%2.4f) should be higher than without it (%2.4f)!\" % (loss, loss_with_reg)\n",
    "\n",
    "check_model_gradient(model_with_reg, train_X[:2], train_y[:2])"
   ]
  },
  {
   "cell_type": "markdown",
   "metadata": {},
   "source": [
    "Также реализуем функцию предсказания (вычисления значения) модели на новых данных.\n",
    "\n",
    "Какое значение точности мы ожидаем увидеть до начала тренировки?"
   ]
  },
  {
   "cell_type": "code",
   "execution_count": 158,
   "metadata": {},
   "outputs": [
    {
     "data": {
      "text/plain": [
       "0.1"
      ]
     },
     "execution_count": 158,
     "metadata": {},
     "output_type": "execute_result"
    }
   ],
   "source": [
    "# Finally, implement predict function!\n",
    "\n",
    "# TODO: Implement predict function\n",
    "# What would be the value we expect?\n",
    "multiclass_accuracy(model_with_reg.predict(train_X[:30]), train_y[:30]) "
   ]
  },
  {
   "cell_type": "markdown",
   "metadata": {},
   "source": [
    "# Допишем код для процесса тренировки\n",
    "\n",
    "Если все реализовано корректно, значение функции ошибки должно уменьшаться с каждой эпохой, пусть и медленно. Не беспокойтесь пока про validation accuracy."
   ]
  },
  {
   "cell_type": "code",
   "execution_count": 280,
   "metadata": {},
   "outputs": [
    {
     "name": "stdout",
     "output_type": "stream",
     "text": [
      "Loss: 2.290780, Train accuracy: 0.196667, val accuracy: 0.206000\n",
      "Loss: 2.190666, Train accuracy: 0.196667, val accuracy: 0.206000\n",
      "Loss: 2.256433, Train accuracy: 0.196667, val accuracy: 0.206000\n",
      "Loss: 2.293526, Train accuracy: 0.196667, val accuracy: 0.206000\n",
      "Loss: 2.280473, Train accuracy: 0.196667, val accuracy: 0.206000\n",
      "Loss: 2.262954, Train accuracy: 0.196667, val accuracy: 0.206000\n",
      "Loss: 2.267962, Train accuracy: 0.196667, val accuracy: 0.206000\n",
      "Loss: 2.292473, Train accuracy: 0.196667, val accuracy: 0.206000\n",
      "Loss: 2.262945, Train accuracy: 0.196667, val accuracy: 0.206000\n",
      "Loss: 2.247542, Train accuracy: 0.196667, val accuracy: 0.206000\n"
     ]
    }
   ],
   "source": [
    "model = TwoLayerNet(n_input = train_X.shape[1], n_output = 10, hidden_layer_size = 100, reg = 1e-1)\n",
    "dataset = Dataset(train_X, train_y, val_X, val_y)\n",
    "trainer = Trainer(model, dataset, SGD(), num_epochs=10, learning_rate = 1e-1)\n",
    "\n",
    "# TODO Implement missing pieces in Trainer.fit function\n",
    "# You should expect loss to go down every epoch, even if it's slow\n",
    "loss_history, train_history, val_history = trainer.fit()"
   ]
  },
  {
   "cell_type": "code",
   "execution_count": 281,
   "metadata": {},
   "outputs": [
    {
     "data": {
      "text/plain": [
       "[<matplotlib.lines.Line2D at 0x7fd6ee5dc390>]"
      ]
     },
     "execution_count": 281,
     "metadata": {},
     "output_type": "execute_result"
    },
    {
     "data": {
      "image/png": "[encoded data removed]",
      "text/plain": [
       "<Figure size 432x288 with 1 Axes>"
      ]
     },
     "metadata": {
      "needs_background": "light"
     },
     "output_type": "display_data"
    }
   ],
   "source": [
    "plt.plot(train_history)\n",
    "plt.plot(val_history)"
   ]
  },
  {
   "cell_type": "markdown",
   "metadata": {},
   "source": [
    "# Улучшаем процесс тренировки\n",
    "\n",
    "Мы реализуем несколько ключевых оптимизаций, необходимых для тренировки современных нейросетей."
   ]
  },
  {
   "cell_type": "markdown",
   "metadata": {},
   "source": [
    "## Уменьшение скорости обучения (learning rate decay)\n",
    "\n",
    "Одна из необходимых оптимизаций во время тренировки нейронных сетей - постепенное уменьшение скорости обучения по мере тренировки.\n",
    "\n",
    "Один из стандартных методов - уменьшение скорости обучения (learning rate) каждые N эпох на коэффициент d (часто называемый decay). Значения N и d, как всегда, являются гиперпараметрами и должны подбираться на основе эффективности на проверочных данных (validation data). \n",
    "\n",
    "В нашем случае N будет равным 1."
   ]
  },
  {
   "cell_type": "code",
   "execution_count": 284,
   "metadata": {},
   "outputs": [
    {
     "name": "stdout",
     "output_type": "stream",
     "text": [
      "Loss: 2.259840, Train accuracy: 0.196667, val accuracy: 0.206000\n",
      "Loss: 2.247365, Train accuracy: 0.189667, val accuracy: 0.200000\n",
      "Loss: 2.208588, Train accuracy: 0.196667, val accuracy: 0.206000\n",
      "Loss: 2.177290, Train accuracy: 0.196667, val accuracy: 0.206000\n",
      "Loss: 2.322940, Train accuracy: 0.196667, val accuracy: 0.206000\n",
      "Loss: 2.412871, Train accuracy: 0.196667, val accuracy: 0.206000\n",
      "Loss: 2.201920, Train accuracy: 0.196667, val accuracy: 0.206000\n",
      "Loss: 2.284760, Train accuracy: 0.196667, val accuracy: 0.206000\n",
      "Loss: 2.296460, Train accuracy: 0.196667, val accuracy: 0.206000\n",
      "Loss: 2.246310, Train accuracy: 0.196667, val accuracy: 0.206000\n"
     ]
    }
   ],
   "source": [
    "# TODO Implement learning rate decay inside Trainer.fit method\n",
    "# Decay should happen once per epoch\n",
    "\n",
    "model = TwoLayerNet(n_input = train_X.shape[1], n_output = 10, hidden_layer_size = 100, reg = 1e-1)\n",
    "dataset = Dataset(train_X, train_y, val_X, val_y)\n",
    "trainer = Trainer(model, dataset, SGD(), num_epochs=10, learning_rate = 1e-1, learning_rate_decay=0.99)\n",
    "\n",
    "initial_learning_rate = trainer.learning_rate\n",
    "loss_history, train_history, val_history = trainer.fit()\n",
    "\n",
    "assert trainer.learning_rate < initial_learning_rate, \"Learning rate should've been reduced\"\n",
    "assert trainer.learning_rate > 0.5*initial_learning_rate, \"Learning rate shouldn'tve been reduced that much!\""
   ]
  },
  {
   "cell_type": "markdown",
   "metadata": {},
   "source": [
    "# Накопление импульса (Momentum SGD)\n",
    "\n",
    "Другой большой класс оптимизаций - использование более эффективных методов градиентного спуска. Мы реализуем один из них - накопление импульса (Momentum SGD).\n",
    "\n",
    "Этот метод хранит скорость движения, использует градиент для ее изменения на каждом шаге, и изменяет веса пропорционально значению скорости.\n",
    "(Физическая аналогия: Вместо скорости градиенты теперь будут задавать ускорение, но будет присутствовать сила трения.)\n",
    "\n",
    "```\n",
    "velocity = momentum * velocity - learning_rate * gradient \n",
    "w = w + velocity\n",
    "```\n",
    "\n",
    "`momentum` здесь коэффициент затухания, который тоже является гиперпараметром (к счастью, для него часто есть хорошее значение по умолчанию, типичный диапазон -- 0.8-0.99).\n",
    "\n",
    "Несколько полезных ссылок, где метод разбирается более подробно:  \n",
    "http://cs231n.github.io/neural-networks-3/#sgd  \n",
    "https://distill.pub/2017/momentum/"
   ]
  },
  {
   "cell_type": "code",
   "execution_count": 287,
   "metadata": {},
   "outputs": [
    {
     "name": "stdout",
     "output_type": "stream",
     "text": [
      "Loss: 2.343349, Train accuracy: 0.196667, val accuracy: 0.206000\n",
      "Loss: 2.284569, Train accuracy: 0.184333, val accuracy: 0.196000\n",
      "Loss: 2.271342, Train accuracy: 0.196667, val accuracy: 0.206000\n",
      "Loss: 2.308355, Train accuracy: 0.196667, val accuracy: 0.206000\n",
      "Loss: 2.250916, Train accuracy: 0.196667, val accuracy: 0.206000\n",
      "Loss: 2.373906, Train accuracy: 0.196667, val accuracy: 0.206000\n",
      "Loss: 2.353474, Train accuracy: 0.196667, val accuracy: 0.206000\n",
      "Loss: 2.302426, Train accuracy: 0.167333, val accuracy: 0.181000\n",
      "Loss: 2.345046, Train accuracy: 0.195222, val accuracy: 0.206000\n",
      "Loss: 2.280432, Train accuracy: 0.175889, val accuracy: 0.172000\n"
     ]
    }
   ],
   "source": [
    "# TODO: Implement MomentumSGD.update function in optim.py\n",
    "\n",
    "model = TwoLayerNet(n_input = train_X.shape[1], n_output = 10, hidden_layer_size = 100, reg = 1e-1)\n",
    "dataset = Dataset(train_X, train_y, val_X, val_y)\n",
    "trainer = Trainer(model, dataset, MomentumSGD(), num_epochs=10, learning_rate=1e-1, learning_rate_decay=0.99)\n",
    "\n",
    "# You should see even better results than before!\n",
    "loss_history, train_history, val_history = trainer.fit()"
   ]
  },
  {
   "cell_type": "markdown",
   "metadata": {},
   "source": [
    "# Ну что, давайте уже тренировать сеть!"
   ]
  },
  {
   "cell_type": "markdown",
   "metadata": {},
   "source": [
    "## Последний тест - переобучимся (overfit) на маленьком наборе данных\n",
    "\n",
    "Хороший способ проверить, все ли реализовано корректно - переобучить сеть на маленьком наборе данных.  \n",
    "Наша модель обладает достаточной мощностью, чтобы приблизить маленький набор данных идеально, поэтому мы ожидаем, что на нем мы быстро дойдем до 100% точности на тренировочном наборе. \n",
    "\n",
    "Если этого не происходит, то где-то была допущена ошибка!"
   ]
  },
  {
   "cell_type": "code",
   "execution_count": 286,
   "metadata": {},
   "outputs": [
    {
     "name": "stdout",
     "output_type": "stream",
     "text": [
      "Loss: 2.343719, Train accuracy: 0.200000, val accuracy: 0.133333\n",
      "Loss: 2.320767, Train accuracy: 0.200000, val accuracy: 0.133333\n",
      "Loss: 2.317108, Train accuracy: 0.200000, val accuracy: 0.133333\n",
      "Loss: 2.302685, Train accuracy: 0.200000, val accuracy: 0.133333\n",
      "Loss: 2.299950, Train accuracy: 0.200000, val accuracy: 0.133333\n",
      "Loss: 2.264897, Train accuracy: 0.200000, val accuracy: 0.133333\n",
      "Loss: 2.271086, Train accuracy: 0.200000, val accuracy: 0.133333\n",
      "Loss: 2.282091, Train accuracy: 0.200000, val accuracy: 0.066667\n",
      "Loss: 2.300699, Train accuracy: 0.400000, val accuracy: 0.000000\n",
      "Loss: 2.048002, Train accuracy: 0.400000, val accuracy: 0.000000\n",
      "Loss: 1.928181, Train accuracy: 0.400000, val accuracy: 0.000000\n",
      "Loss: 2.206854, Train accuracy: 0.400000, val accuracy: 0.000000\n",
      "Loss: 1.727035, Train accuracy: 0.333333, val accuracy: 0.000000\n",
      "Loss: 2.183269, Train accuracy: 0.400000, val accuracy: 0.000000\n",
      "Loss: 1.963764, Train accuracy: 0.333333, val accuracy: 0.000000\n",
      "Loss: 2.152260, Train accuracy: 0.333333, val accuracy: 0.000000\n",
      "Loss: 1.540212, Train accuracy: 0.400000, val accuracy: 0.000000\n",
      "Loss: 1.589674, Train accuracy: 0.400000, val accuracy: 0.000000\n",
      "Loss: 2.188288, Train accuracy: 0.400000, val accuracy: 0.000000\n",
      "Loss: 2.325355, Train accuracy: 0.400000, val accuracy: 0.000000\n",
      "Loss: 2.137058, Train accuracy: 0.466667, val accuracy: 0.066667\n",
      "Loss: 1.652188, Train accuracy: 0.466667, val accuracy: 0.000000\n",
      "Loss: 1.663588, Train accuracy: 0.400000, val accuracy: 0.066667\n",
      "Loss: 1.862216, Train accuracy: 0.466667, val accuracy: 0.066667\n",
      "Loss: 2.030653, Train accuracy: 0.466667, val accuracy: 0.066667\n",
      "Loss: 2.257187, Train accuracy: 0.466667, val accuracy: 0.066667\n",
      "Loss: 1.658090, Train accuracy: 0.466667, val accuracy: 0.066667\n",
      "Loss: 1.756514, Train accuracy: 0.466667, val accuracy: 0.000000\n",
      "Loss: 1.796215, Train accuracy: 0.466667, val accuracy: 0.000000\n",
      "Loss: 1.181837, Train accuracy: 0.533333, val accuracy: 0.000000\n",
      "Loss: 1.736218, Train accuracy: 0.466667, val accuracy: 0.066667\n",
      "Loss: 1.337009, Train accuracy: 0.466667, val accuracy: 0.000000\n",
      "Loss: 2.071880, Train accuracy: 0.533333, val accuracy: 0.066667\n",
      "Loss: 1.821919, Train accuracy: 0.533333, val accuracy: 0.000000\n",
      "Loss: 1.596474, Train accuracy: 0.600000, val accuracy: 0.066667\n",
      "Loss: 2.176273, Train accuracy: 0.600000, val accuracy: 0.066667\n",
      "Loss: 1.626978, Train accuracy: 0.666667, val accuracy: 0.066667\n",
      "Loss: 0.911503, Train accuracy: 0.666667, val accuracy: 0.066667\n",
      "Loss: 1.280619, Train accuracy: 0.666667, val accuracy: 0.066667\n",
      "Loss: 1.736556, Train accuracy: 0.666667, val accuracy: 0.066667\n",
      "Loss: 1.104591, Train accuracy: 0.666667, val accuracy: 0.066667\n",
      "Loss: 1.158202, Train accuracy: 0.666667, val accuracy: 0.000000\n",
      "Loss: 1.823174, Train accuracy: 0.666667, val accuracy: 0.066667\n",
      "Loss: 1.316420, Train accuracy: 0.666667, val accuracy: 0.066667\n",
      "Loss: 1.829337, Train accuracy: 0.666667, val accuracy: 0.000000\n",
      "Loss: 1.478836, Train accuracy: 0.733333, val accuracy: 0.066667\n",
      "Loss: 1.199633, Train accuracy: 0.666667, val accuracy: 0.066667\n",
      "Loss: 1.362140, Train accuracy: 0.600000, val accuracy: 0.066667\n",
      "Loss: 1.535735, Train accuracy: 0.600000, val accuracy: 0.066667\n",
      "Loss: 1.184214, Train accuracy: 0.666667, val accuracy: 0.066667\n",
      "Loss: 2.046788, Train accuracy: 0.733333, val accuracy: 0.133333\n",
      "Loss: 1.245330, Train accuracy: 0.666667, val accuracy: 0.000000\n",
      "Loss: 1.537781, Train accuracy: 0.733333, val accuracy: 0.066667\n",
      "Loss: 2.230529, Train accuracy: 0.733333, val accuracy: 0.066667\n",
      "Loss: 1.733092, Train accuracy: 0.733333, val accuracy: 0.066667\n",
      "Loss: 2.052410, Train accuracy: 0.733333, val accuracy: 0.066667\n",
      "Loss: 1.277626, Train accuracy: 0.733333, val accuracy: 0.066667\n",
      "Loss: 1.316816, Train accuracy: 0.733333, val accuracy: 0.066667\n",
      "Loss: 1.842703, Train accuracy: 0.733333, val accuracy: 0.066667\n",
      "Loss: 0.912957, Train accuracy: 0.733333, val accuracy: 0.066667\n",
      "Loss: 1.394231, Train accuracy: 0.733333, val accuracy: 0.066667\n",
      "Loss: 1.504246, Train accuracy: 0.733333, val accuracy: 0.066667\n",
      "Loss: 0.927494, Train accuracy: 0.733333, val accuracy: 0.066667\n",
      "Loss: 1.147062, Train accuracy: 0.733333, val accuracy: 0.066667\n",
      "Loss: 1.311452, Train accuracy: 0.733333, val accuracy: 0.066667\n",
      "Loss: 1.989916, Train accuracy: 0.733333, val accuracy: 0.066667\n",
      "Loss: 1.529714, Train accuracy: 0.733333, val accuracy: 0.066667\n",
      "Loss: 1.319659, Train accuracy: 0.733333, val accuracy: 0.066667\n",
      "Loss: 1.550247, Train accuracy: 0.733333, val accuracy: 0.066667\n",
      "Loss: 1.733682, Train accuracy: 0.733333, val accuracy: 0.066667\n",
      "Loss: 1.515550, Train accuracy: 0.800000, val accuracy: 0.066667\n",
      "Loss: 1.278170, Train accuracy: 0.733333, val accuracy: 0.066667\n",
      "Loss: 1.274747, Train accuracy: 0.733333, val accuracy: 0.066667\n",
      "Loss: 1.950527, Train accuracy: 0.800000, val accuracy: 0.066667\n",
      "Loss: 1.373557, Train accuracy: 0.733333, val accuracy: 0.066667\n",
      "Loss: 1.929017, Train accuracy: 0.800000, val accuracy: 0.066667\n",
      "Loss: 1.395858, Train accuracy: 0.733333, val accuracy: 0.066667\n",
      "Loss: 1.262329, Train accuracy: 0.800000, val accuracy: 0.066667\n",
      "Loss: 1.426844, Train accuracy: 0.800000, val accuracy: 0.066667\n",
      "Loss: 1.964169, Train accuracy: 0.800000, val accuracy: 0.066667\n",
      "Loss: 1.069637, Train accuracy: 0.800000, val accuracy: 0.066667\n",
      "Loss: 0.979444, Train accuracy: 0.866667, val accuracy: 0.066667\n",
      "Loss: 1.976734, Train accuracy: 0.866667, val accuracy: 0.066667\n",
      "Loss: 1.538255, Train accuracy: 0.866667, val accuracy: 0.066667\n",
      "Loss: 1.213385, Train accuracy: 0.866667, val accuracy: 0.066667\n",
      "Loss: 1.708770, Train accuracy: 0.866667, val accuracy: 0.066667\n",
      "Loss: 1.542883, Train accuracy: 0.866667, val accuracy: 0.066667\n",
      "Loss: 1.164504, Train accuracy: 0.866667, val accuracy: 0.066667\n",
      "Loss: 1.565124, Train accuracy: 0.866667, val accuracy: 0.066667\n",
      "Loss: 1.270071, Train accuracy: 0.866667, val accuracy: 0.066667\n",
      "Loss: 1.397785, Train accuracy: 0.933333, val accuracy: 0.066667\n",
      "Loss: 1.058246, Train accuracy: 0.933333, val accuracy: 0.066667\n",
      "Loss: 1.669699, Train accuracy: 0.933333, val accuracy: 0.066667\n",
      "Loss: 1.315903, Train accuracy: 0.933333, val accuracy: 0.066667\n",
      "Loss: 1.615505, Train accuracy: 0.933333, val accuracy: 0.066667\n",
      "Loss: 1.069521, Train accuracy: 0.933333, val accuracy: 0.066667\n",
      "Loss: 1.166592, Train accuracy: 0.933333, val accuracy: 0.066667\n",
      "Loss: 1.257824, Train accuracy: 0.933333, val accuracy: 0.066667\n",
      "Loss: 1.507664, Train accuracy: 0.933333, val accuracy: 0.066667\n",
      "Loss: 1.454308, Train accuracy: 0.933333, val accuracy: 0.066667\n",
      "Loss: 1.865265, Train accuracy: 0.933333, val accuracy: 0.066667\n",
      "Loss: 1.217664, Train accuracy: 0.933333, val accuracy: 0.066667\n",
      "Loss: 1.070554, Train accuracy: 0.933333, val accuracy: 0.066667\n",
      "Loss: 1.196531, Train accuracy: 0.933333, val accuracy: 0.066667\n",
      "Loss: 1.378886, Train accuracy: 0.933333, val accuracy: 0.066667\n",
      "Loss: 1.529054, Train accuracy: 0.933333, val accuracy: 0.066667\n",
      "Loss: 1.371921, Train accuracy: 0.933333, val accuracy: 0.066667\n",
      "Loss: 1.565515, Train accuracy: 0.933333, val accuracy: 0.066667\n",
      "Loss: 1.328183, Train accuracy: 1.000000, val accuracy: 0.066667\n",
      "Loss: 1.273588, Train accuracy: 1.000000, val accuracy: 0.066667\n",
      "Loss: 1.508983, Train accuracy: 0.933333, val accuracy: 0.066667\n",
      "Loss: 1.436262, Train accuracy: 0.933333, val accuracy: 0.066667\n",
      "Loss: 1.431714, Train accuracy: 1.000000, val accuracy: 0.066667\n",
      "Loss: 1.614434, Train accuracy: 1.000000, val accuracy: 0.066667\n",
      "Loss: 1.200496, Train accuracy: 0.933333, val accuracy: 0.000000\n",
      "Loss: 1.073102, Train accuracy: 0.933333, val accuracy: 0.000000\n",
      "Loss: 1.639154, Train accuracy: 1.000000, val accuracy: 0.000000\n",
      "Loss: 1.409583, Train accuracy: 1.000000, val accuracy: 0.000000\n",
      "Loss: 1.550287, Train accuracy: 1.000000, val accuracy: 0.000000\n",
      "Loss: 1.214038, Train accuracy: 1.000000, val accuracy: 0.000000\n",
      "Loss: 1.025151, Train accuracy: 1.000000, val accuracy: 0.000000\n",
      "Loss: 1.253079, Train accuracy: 1.000000, val accuracy: 0.000000\n",
      "Loss: 1.421475, Train accuracy: 1.000000, val accuracy: 0.000000\n",
      "Loss: 1.273597, Train accuracy: 1.000000, val accuracy: 0.000000\n",
      "Loss: 1.485146, Train accuracy: 1.000000, val accuracy: 0.000000\n",
      "Loss: 1.227995, Train accuracy: 1.000000, val accuracy: 0.000000\n",
      "Loss: 1.327102, Train accuracy: 1.000000, val accuracy: 0.000000\n",
      "Loss: 1.226900, Train accuracy: 0.933333, val accuracy: 0.000000\n",
      "Loss: 1.295151, Train accuracy: 1.000000, val accuracy: 0.000000\n"
     ]
    },
    {
     "name": "stdout",
     "output_type": "stream",
     "text": [
      "Loss: 1.143545, Train accuracy: 1.000000, val accuracy: 0.000000\n",
      "Loss: 1.414770, Train accuracy: 1.000000, val accuracy: 0.000000\n",
      "Loss: 1.114506, Train accuracy: 1.000000, val accuracy: 0.000000\n",
      "Loss: 1.269769, Train accuracy: 1.000000, val accuracy: 0.000000\n",
      "Loss: 1.332962, Train accuracy: 1.000000, val accuracy: 0.000000\n",
      "Loss: 1.364295, Train accuracy: 1.000000, val accuracy: 0.000000\n",
      "Loss: 1.271447, Train accuracy: 1.000000, val accuracy: 0.000000\n",
      "Loss: 1.372033, Train accuracy: 1.000000, val accuracy: 0.000000\n",
      "Loss: 1.340224, Train accuracy: 1.000000, val accuracy: 0.000000\n",
      "Loss: 1.334413, Train accuracy: 1.000000, val accuracy: 0.000000\n",
      "Loss: 1.215015, Train accuracy: 1.000000, val accuracy: 0.000000\n",
      "Loss: 1.149037, Train accuracy: 1.000000, val accuracy: 0.000000\n",
      "Loss: 1.451311, Train accuracy: 1.000000, val accuracy: 0.000000\n",
      "Loss: 1.355745, Train accuracy: 1.000000, val accuracy: 0.000000\n",
      "Loss: 1.076202, Train accuracy: 1.000000, val accuracy: 0.000000\n",
      "Loss: 1.370008, Train accuracy: 1.000000, val accuracy: 0.000000\n",
      "Loss: 1.255865, Train accuracy: 1.000000, val accuracy: 0.000000\n",
      "Loss: 1.072025, Train accuracy: 1.000000, val accuracy: 0.000000\n",
      "Loss: 1.169076, Train accuracy: 1.000000, val accuracy: 0.000000\n",
      "Loss: 1.442709, Train accuracy: 1.000000, val accuracy: 0.000000\n",
      "Loss: 1.423515, Train accuracy: 1.000000, val accuracy: 0.000000\n"
     ]
    }
   ],
   "source": [
    "data_size = 15\n",
    "model = TwoLayerNet(n_input = train_X.shape[1], n_output = 10, hidden_layer_size = 100, reg = 1e-1)\n",
    "dataset = Dataset(train_X[:data_size], train_y[:data_size], val_X[:data_size], val_y[:data_size])\n",
    "trainer = Trainer(model, dataset, SGD(), learning_rate=1e-1, num_epochs=150, batch_size=5)\n",
    "\n",
    "# You should expect this to reach 1.0 training accuracy \n",
    "loss_history, train_history, val_history = trainer.fit()"
   ]
  },
  {
   "cell_type": "markdown",
   "metadata": {},
   "source": [
    "Теперь найдем гипепараметры, для которых этот процесс сходится быстрее.\n",
    "Если все реализовано корректно, то существуют параметры, при которых процесс сходится в **20** эпох или еще быстрее.\n",
    "Найдите их!"
   ]
  },
  {
   "cell_type": "code",
   "execution_count": 288,
   "metadata": {},
   "outputs": [
    {
     "name": "stdout",
     "output_type": "stream",
     "text": [
      "Loss: 2.298178, Train accuracy: 0.200000, val accuracy: 0.133333\n",
      "Loss: 2.328291, Train accuracy: 0.200000, val accuracy: 0.066667\n",
      "Loss: 2.254531, Train accuracy: 0.200000, val accuracy: 0.133333\n",
      "Loss: 2.296701, Train accuracy: 0.200000, val accuracy: 0.133333\n",
      "Loss: 1.956737, Train accuracy: 0.400000, val accuracy: 0.000000\n",
      "Loss: 1.115810, Train accuracy: 0.400000, val accuracy: 0.000000\n",
      "Loss: 1.410526, Train accuracy: 0.400000, val accuracy: 0.000000\n",
      "Loss: 1.882972, Train accuracy: 0.466667, val accuracy: 0.066667\n",
      "Loss: 1.469276, Train accuracy: 0.533333, val accuracy: 0.133333\n",
      "Loss: 0.655098, Train accuracy: 0.600000, val accuracy: 0.000000\n",
      "Loss: 1.126839, Train accuracy: 0.666667, val accuracy: 0.066667\n",
      "Loss: 1.098001, Train accuracy: 0.800000, val accuracy: 0.066667\n",
      "Loss: 0.612959, Train accuracy: 0.866667, val accuracy: 0.066667\n",
      "Loss: 0.169713, Train accuracy: 0.933333, val accuracy: 0.000000\n",
      "Loss: 0.245612, Train accuracy: 1.000000, val accuracy: 0.066667\n",
      "Loss: 0.216733, Train accuracy: 1.000000, val accuracy: 0.000000\n",
      "Loss: 0.064868, Train accuracy: 1.000000, val accuracy: 0.000000\n",
      "Loss: 0.060269, Train accuracy: 1.000000, val accuracy: 0.000000\n",
      "Loss: 0.049723, Train accuracy: 1.000000, val accuracy: 0.000000\n",
      "Loss: 0.069535, Train accuracy: 1.000000, val accuracy: 0.000000\n"
     ]
    }
   ],
   "source": [
    "# Now, tweak some hyper parameters and make it train to 1.0 accuracy in 20 epochs or less\n",
    "\n",
    "model = TwoLayerNet(n_input = train_X.shape[1], n_output = 10, hidden_layer_size = 100, reg = 1e-3)\n",
    "dataset = Dataset(train_X[:data_size], train_y[:data_size], val_X[:data_size], val_y[:data_size])\n",
    "# TODO: Change any hyperparamers or optimizators to reach training accuracy in 20 epochs\n",
    "trainer = Trainer(model, dataset, MomentumSGD(momentum=0.85), learning_rate=0.8e-1, learning_rate_decay=1.0, num_epochs=20, batch_size=5)\n",
    "\n",
    "loss_history, train_history, val_history = trainer.fit()"
   ]
  },
  {
   "cell_type": "markdown",
   "metadata": {},
   "source": [
    "# Итак, основное мероприятие!\n",
    "\n",
    "Натренируйте лучшую нейросеть! Можно добавлять и изменять параметры, менять количество нейронов в слоях сети и как угодно экспериментировать. \n",
    "\n",
    "Добейтесь точности лучше **60%** на validation set."
   ]
  },
  {
   "cell_type": "code",
   "execution_count": 273,
   "metadata": {
    "scrolled": true
   },
   "outputs": [
    {
     "name": "stdout",
     "output_type": "stream",
     "text": [
      "Loss: 1.860415, Train accuracy: 0.387444, val accuracy: 0.381000\n",
      "Loss: 1.346356, Train accuracy: 0.534111, val accuracy: 0.538000\n",
      "Loss: 1.600856, Train accuracy: 0.628667, val accuracy: 0.610000\n",
      "Loss: 1.149910, Train accuracy: 0.627000, val accuracy: 0.590000\n",
      "Loss: 1.487777, Train accuracy: 0.661889, val accuracy: 0.632000\n",
      "Loss: 1.091943, Train accuracy: 0.725111, val accuracy: 0.672000\n",
      "Loss: 1.029878, Train accuracy: 0.687111, val accuracy: 0.645000\n",
      "Loss: 1.710997, Train accuracy: 0.692889, val accuracy: 0.640000\n",
      "Loss: 1.113131, Train accuracy: 0.739556, val accuracy: 0.675000\n",
      "Loss: 1.054951, Train accuracy: 0.717889, val accuracy: 0.661000\n",
      "Loss: 0.587391, Train accuracy: 0.752778, val accuracy: 0.697000\n",
      "Loss: 0.923357, Train accuracy: 0.746111, val accuracy: 0.658000\n",
      "Loss: 1.444199, Train accuracy: 0.778778, val accuracy: 0.680000\n",
      "Loss: 0.692399, Train accuracy: 0.768556, val accuracy: 0.683000\n",
      "Loss: 0.734186, Train accuracy: 0.787667, val accuracy: 0.693000\n",
      "Loss: 0.880763, Train accuracy: 0.822000, val accuracy: 0.707000\n",
      "Loss: 0.368268, Train accuracy: 0.806667, val accuracy: 0.669000\n",
      "Loss: 0.631541, Train accuracy: 0.813667, val accuracy: 0.694000\n",
      "Loss: 0.889507, Train accuracy: 0.814556, val accuracy: 0.688000\n",
      "Loss: 0.844553, Train accuracy: 0.851333, val accuracy: 0.721000\n",
      "Loss: 0.577138, Train accuracy: 0.845222, val accuracy: 0.728000\n",
      "Loss: 0.332620, Train accuracy: 0.821222, val accuracy: 0.694000\n",
      "Loss: 0.320626, Train accuracy: 0.828222, val accuracy: 0.715000\n",
      "Loss: 0.905771, Train accuracy: 0.816778, val accuracy: 0.710000\n",
      "Loss: 0.434249, Train accuracy: 0.831667, val accuracy: 0.701000\n",
      "Loss: 0.423290, Train accuracy: 0.840889, val accuracy: 0.717000\n",
      "Loss: 0.996541, Train accuracy: 0.855000, val accuracy: 0.715000\n",
      "Loss: 0.303524, Train accuracy: 0.862111, val accuracy: 0.722000\n",
      "Loss: 0.184578, Train accuracy: 0.884222, val accuracy: 0.734000\n",
      "Loss: 0.819472, Train accuracy: 0.867667, val accuracy: 0.722000\n",
      "Loss: 1.019456, Train accuracy: 0.875889, val accuracy: 0.702000\n",
      "Loss: 0.321541, Train accuracy: 0.887556, val accuracy: 0.745000\n",
      "Loss: 0.290321, Train accuracy: 0.895889, val accuracy: 0.727000\n",
      "Loss: 0.181304, Train accuracy: 0.887667, val accuracy: 0.714000\n",
      "Loss: 0.273503, Train accuracy: 0.908889, val accuracy: 0.734000\n",
      "Loss: 0.906157, Train accuracy: 0.901111, val accuracy: 0.720000\n",
      "Loss: 0.537982, Train accuracy: 0.920556, val accuracy: 0.729000\n",
      "Loss: 0.283554, Train accuracy: 0.907222, val accuracy: 0.732000\n",
      "Loss: 0.065193, Train accuracy: 0.915111, val accuracy: 0.741000\n",
      "Loss: 0.211955, Train accuracy: 0.918333, val accuracy: 0.731000\n",
      "Loss: 0.267344, Train accuracy: 0.929889, val accuracy: 0.744000\n",
      "Loss: 0.265512, Train accuracy: 0.940000, val accuracy: 0.753000\n",
      "Loss: 0.156015, Train accuracy: 0.928111, val accuracy: 0.747000\n",
      "Loss: 0.463550, Train accuracy: 0.927778, val accuracy: 0.748000\n",
      "Loss: 0.284168, Train accuracy: 0.924667, val accuracy: 0.724000\n",
      "Loss: 0.214303, Train accuracy: 0.931222, val accuracy: 0.732000\n",
      "Loss: 0.056280, Train accuracy: 0.924667, val accuracy: 0.727000\n",
      "Loss: 0.153370, Train accuracy: 0.951111, val accuracy: 0.752000\n",
      "Loss: 0.465479, Train accuracy: 0.936667, val accuracy: 0.748000\n",
      "Loss: 0.212717, Train accuracy: 0.956111, val accuracy: 0.749000\n",
      "Loss: 0.291263, Train accuracy: 0.921889, val accuracy: 0.725000\n",
      "Loss: 0.169563, Train accuracy: 0.933111, val accuracy: 0.740000\n",
      "Loss: 0.042368, Train accuracy: 0.957556, val accuracy: 0.737000\n",
      "Loss: 0.073688, Train accuracy: 0.961889, val accuracy: 0.747000\n",
      "Loss: 0.032332, Train accuracy: 0.957000, val accuracy: 0.745000\n",
      "Loss: 0.027958, Train accuracy: 0.951111, val accuracy: 0.749000\n",
      "Loss: 0.144317, Train accuracy: 0.960000, val accuracy: 0.755000\n",
      "Loss: 0.187423, Train accuracy: 0.962111, val accuracy: 0.762000\n",
      "Loss: 0.039374, Train accuracy: 0.966889, val accuracy: 0.756000\n",
      "Loss: 0.043500, Train accuracy: 0.978444, val accuracy: 0.771000\n",
      "Loss: 0.086685, Train accuracy: 0.972778, val accuracy: 0.757000\n",
      "Loss: 0.346088, Train accuracy: 0.952778, val accuracy: 0.766000\n",
      "Loss: 0.144106, Train accuracy: 0.967444, val accuracy: 0.747000\n",
      "Loss: 0.080436, Train accuracy: 0.964667, val accuracy: 0.760000\n",
      "Loss: 0.032794, Train accuracy: 0.977000, val accuracy: 0.757000\n",
      "Loss: 0.082682, Train accuracy: 0.977111, val accuracy: 0.759000\n",
      "Loss: 0.206183, Train accuracy: 0.969444, val accuracy: 0.757000\n",
      "Loss: 0.022737, Train accuracy: 0.968111, val accuracy: 0.759000\n",
      "Loss: 0.097022, Train accuracy: 0.973889, val accuracy: 0.761000\n",
      "Loss: 0.017846, Train accuracy: 0.977000, val accuracy: 0.761000\n",
      "Loss: 0.009148, Train accuracy: 0.991667, val accuracy: 0.766000\n",
      "Loss: 0.120776, Train accuracy: 0.987556, val accuracy: 0.765000\n",
      "Loss: 0.074700, Train accuracy: 0.980778, val accuracy: 0.766000\n",
      "Loss: 0.017600, Train accuracy: 0.987222, val accuracy: 0.766000\n",
      "Loss: 0.089231, Train accuracy: 0.984556, val accuracy: 0.762000\n",
      "Loss: 0.046856, Train accuracy: 0.986000, val accuracy: 0.757000\n",
      "Loss: 0.055388, Train accuracy: 0.991000, val accuracy: 0.762000\n",
      "Loss: 0.109787, Train accuracy: 0.991889, val accuracy: 0.761000\n",
      "Loss: 0.021084, Train accuracy: 0.990667, val accuracy: 0.761000\n",
      "Loss: 0.009490, Train accuracy: 0.996444, val accuracy: 0.765000\n",
      "Loss: 0.045045, Train accuracy: 0.993000, val accuracy: 0.771000\n",
      "Loss: 0.059943, Train accuracy: 0.987222, val accuracy: 0.764000\n",
      "Loss: 0.065887, Train accuracy: 0.994889, val accuracy: 0.758000\n",
      "Loss: 0.063028, Train accuracy: 0.997000, val accuracy: 0.771000\n",
      "Loss: 0.036580, Train accuracy: 0.996778, val accuracy: 0.767000\n",
      "Loss: 0.007812, Train accuracy: 0.998333, val accuracy: 0.769000\n",
      "Loss: 0.022456, Train accuracy: 0.995667, val accuracy: 0.774000\n",
      "Loss: 0.113548, Train accuracy: 0.997667, val accuracy: 0.764000\n",
      "Loss: 0.034001, Train accuracy: 0.997222, val accuracy: 0.763000\n",
      "Loss: 0.020344, Train accuracy: 0.997556, val accuracy: 0.774000\n",
      "Loss: 0.020359, Train accuracy: 0.997556, val accuracy: 0.761000\n",
      "Loss: 0.008705, Train accuracy: 0.996667, val accuracy: 0.764000\n",
      "Loss: 0.011350, Train accuracy: 0.995556, val accuracy: 0.772000\n",
      "Loss: 0.044542, Train accuracy: 0.997556, val accuracy: 0.758000\n",
      "Loss: 0.015638, Train accuracy: 0.998667, val accuracy: 0.765000\n",
      "Loss: 0.020801, Train accuracy: 0.998667, val accuracy: 0.772000\n",
      "Loss: 0.001158, Train accuracy: 0.999000, val accuracy: 0.765000\n",
      "Loss: 0.005079, Train accuracy: 0.998778, val accuracy: 0.771000\n",
      "Loss: 0.001235, Train accuracy: 0.999444, val accuracy: 0.767000\n",
      "Loss: 0.006423, Train accuracy: 0.999667, val accuracy: 0.771000\n",
      "best validation accuracy achieved: 0.774000\n",
      "CPU times: user 35min 35s, sys: 16min 49s, total: 52min 24s\n",
      "Wall time: 16min 10s\n"
     ]
    }
   ],
   "source": [
    "%%time\n",
    "# Let's train the best one-hidden-layer network we can\n",
    "\n",
    "# Parameters\n",
    "learning_rates = 0.1\n",
    "reg_strength = 1e-08\n",
    "learning_rate_decay = 0.99\n",
    "hidden_layer_size = 128\n",
    "num_epochs = 100\n",
    "batch_size = 64\n",
    "momentum = 0.2\n",
    "\n",
    "best_classifier = None\n",
    "best_val_accuracy = None\n",
    "\n",
    "loss_history = []\n",
    "train_history = []\n",
    "val_history = []\n",
    "\n",
    "# TODO find the best hyperparameters to train the network\n",
    "# Don't hesitate to add new values to the arrays above, perform experiments, use any tricks you want\n",
    "# You should expect to get to at least 40% of valudation accuracy\n",
    "# Save loss/train/history of the best classifier to the variables above\n",
    "model = TwoLayerNet(n_input = train_X.shape[1], n_output = 10, \n",
    "                    hidden_layer_size = hidden_layer_size, reg = reg_strength)\n",
    "dataset = Dataset(train_X, train_y, val_X, val_y)\n",
    "trainer = Trainer(model, dataset, MomentumSGD(momentum=momentum), \n",
    "                  learning_rate=learning_rates, \n",
    "                  learning_rate_decay=learning_rate_decay, \n",
    "                  num_epochs=num_epochs, \n",
    "                  batch_size=batch_size)\n",
    "loss_history, train_history, val_history = trainer.fit()\n",
    "best_val_accuracy = max(val_history)\n",
    "best_classifier = model\n",
    "print('best validation accuracy achieved: %f' % best_val_accuracy)"
   ]
  },
  {
   "cell_type": "code",
   "execution_count": 274,
   "metadata": {},
   "outputs": [
    {
     "data": {
      "text/plain": [
       "[<matplotlib.lines.Line2D at 0x7fd6eeaca750>]"
      ]
     },
     "execution_count": 274,
     "metadata": {},
     "output_type": "execute_result"
    },
    {
     "data": {
      "image/png": "[encoded data removed]",
      "text/plain": [
       "<Figure size 1080x504 with 2 Axes>"
      ]
     },
     "metadata": {
      "needs_background": "light"
     },
     "output_type": "display_data"
    }
   ],
   "source": [
    "plt.figure(figsize=(15, 7))\n",
    "plt.subplot(211)\n",
    "plt.title(\"Loss\")\n",
    "plt.plot(loss_history)\n",
    "plt.subplot(212)\n",
    "plt.title(\"Train/validation accuracy\")\n",
    "plt.plot(train_history)\n",
    "plt.plot(val_history)"
   ]
  },
  {
   "cell_type": "markdown",
   "metadata": {},
   "source": [
    "# Как обычно, посмотрим, как наша лучшая модель работает на тестовых данных"
   ]
  },
  {
   "cell_type": "code",
   "execution_count": 275,
   "metadata": {},
   "outputs": [
    {
     "name": "stdout",
     "output_type": "stream",
     "text": [
      "Neural net test set accuracy: 0.747000\n"
     ]
    }
   ],
   "source": [
    "test_pred = best_classifier.predict(test_X)\n",
    "test_accuracy = multiclass_accuracy(test_pred, test_y)\n",
    "print('Neural net test set accuracy: %f' % (test_accuracy, ))"
   ]
  }
 ],
 "metadata": {
  "hide_input": false,
  "kernelspec": {
   "display_name": "Python 3",
   "language": "python",
   "name": "python3"
  },
  "language_info": {
   "codemirror_mode": {
    "name": "ipython",
    "version": 3
   },
   "file_extension": ".py",
   "mimetype": "text/x-python",
   "name": "python",
   "nbconvert_exporter": "python",
   "pygments_lexer": "ipython3",
   "version": "3.7.5"
  },
  "toc": {
   "base_numbering": 1,
   "nav_menu": {},
   "number_sections": true,
   "sideBar": true,
   "skip_h1_title": false,
   "title_cell": "Table of Contents",
   "title_sidebar": "Contents",
   "toc_cell": false,
   "toc_position": {},
   "toc_section_display": true,
   "toc_window_display": false
  },
  "varInspector": {
   "cols": {
    "lenName": 16,
    "lenType": 16,
    "lenVar": 40
   },
   "kernels_config": {
    "python": {
     "delete_cmd_postfix": "",
     "delete_cmd_prefix": "del ",
     "library": "var_list.py",
     "varRefreshCmd": "print(var_dic_list())"
    },
    "r": {
     "delete_cmd_postfix": ") ",
     "delete_cmd_prefix": "rm(",
     "library": "var_list.r",
     "varRefreshCmd": "cat(var_dic_list()) "
    }
   },
   "types_to_exclude": [
    "module",
    "function",
    "builtin_function_or_method",
    "instance",
    "_Feature"
   ],
   "window_display": false
  }
 },
 "nbformat": 4,
 "nbformat_minor": 2
}
