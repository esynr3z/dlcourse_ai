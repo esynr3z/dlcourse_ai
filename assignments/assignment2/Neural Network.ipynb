{
 "cells": [
  {
   "cell_type": "markdown",
   "metadata": {},
   "source": [
    "# Задание 2.1 - Нейронные сети\n",
    "\n",
    "В этом задании вы реализуете и натренируете настоящую нейроную сеть своими руками!\n",
    "\n",
    "В некотором смысле это будет расширением прошлого задания - нам нужно просто составить несколько линейных классификаторов вместе!\n",
    "\n",
    "<img src=\"https://i.redd.it/n9fgba8b0qr01.png\" alt=\"Stack_more_layers\" width=\"400px\"/>"
   ]
  },
  {
   "cell_type": "code",
   "execution_count": 1,
   "metadata": {},
   "outputs": [],
   "source": [
    "import numpy as np\n",
    "import matplotlib.pyplot as plt\n",
    "\n",
    "%matplotlib inline\n",
    "\n",
    "%load_ext autoreload\n",
    "%autoreload 2"
   ]
  },
  {
   "cell_type": "code",
   "execution_count": 2,
   "metadata": {},
   "outputs": [],
   "source": [
    "from dataset import load_svhn, random_split_train_val\n",
    "from gradient_check import check_layer_gradient, check_layer_param_gradient, check_model_gradient\n",
    "from layers import FullyConnectedLayer, ReLULayer\n",
    "from model import TwoLayerNet\n",
    "from trainer import Trainer, Dataset\n",
    "from optim import SGD, MomentumSGD\n",
    "from metrics import multiclass_accuracy"
   ]
  },
  {
   "cell_type": "markdown",
   "metadata": {},
   "source": [
    "# Загружаем данные\n",
    "\n",
    "И разделяем их на training и validation."
   ]
  },
  {
   "cell_type": "code",
   "execution_count": 3,
   "metadata": {},
   "outputs": [],
   "source": [
    "def prepare_for_neural_network(train_X, test_X):\n",
    "    train_flat = train_X.reshape(train_X.shape[0], -1).astype(np.float) / 255.0\n",
    "    test_flat = test_X.reshape(test_X.shape[0], -1).astype(np.float) / 255.0\n",
    "    \n",
    "    # Subtract mean\n",
    "    mean_image = np.mean(train_flat, axis = 0)\n",
    "    train_flat -= mean_image\n",
    "    test_flat -= mean_image\n",
    "    \n",
    "    return train_flat, test_flat\n",
    "    \n",
    "train_X, train_y, test_X, test_y = load_svhn(\"data\", max_train=10000, max_test=1000)    \n",
    "train_X, test_X = prepare_for_neural_network(train_X, test_X)\n",
    "# Split train into train and val\n",
    "train_X, train_y, val_X, val_y = random_split_train_val(train_X, train_y, num_val = 1000)"
   ]
  },
  {
   "cell_type": "markdown",
   "metadata": {},
   "source": [
    "# Как всегда, начинаем с кирпичиков\n",
    "\n",
    "Мы будем реализовывать необходимые нам слои по очереди. Каждый слой должен реализовать:\n",
    "- прямой проход (forward pass), который генерирует выход слоя по входу и запоминает необходимые данные\n",
    "- обратный проход (backward pass), который получает градиент по выходу слоя и вычисляет градиент по входу и по параметрам\n",
    "\n",
    "Начнем с ReLU, у которого параметров нет."
   ]
  },
  {
   "cell_type": "code",
   "execution_count": 179,
   "metadata": {
    "scrolled": false
   },
   "outputs": [
    {
     "name": "stdout",
     "output_type": "stream",
     "text": [
      "Gradient check passed!\n"
     ]
    }
   ],
   "source": [
    "# TODO: Implement ReLULayer layer in layers.py\n",
    "# Note: you'll need to copy implementation of the gradient_check function from the previous assignment\n",
    "\n",
    "X = np.array([[1,-2,3],\n",
    "              [-1, 2, 0.1]\n",
    "              ])\n",
    "\n",
    "assert check_layer_gradient(ReLULayer(), X)"
   ]
  },
  {
   "cell_type": "markdown",
   "metadata": {},
   "source": [
    "А теперь реализуем полносвязный слой (fully connected layer), у которого будет два массива параметров: W (weights) и B (bias).\n",
    "\n",
    "Все параметры наши слои будут использовать для параметров специальный класс `Param`, в котором будут храниться значения параметров и градиенты этих параметров, вычисляемые во время обратного прохода.\n",
    "\n",
    "Это даст возможность аккумулировать (суммировать) градиенты из разных частей функции потерь, например, из cross-entropy loss и regularization loss."
   ]
  },
  {
   "cell_type": "code",
   "execution_count": 155,
   "metadata": {},
   "outputs": [
    {
     "name": "stdout",
     "output_type": "stream",
     "text": [
      "Gradient check passed!\n",
      "Gradient check passed!\n",
      "Gradient check passed!\n"
     ]
    }
   ],
   "source": [
    "# TODO: Implement FullyConnected layer forward and backward methods\n",
    "assert check_layer_gradient(FullyConnectedLayer(3, 4), X)\n",
    "# TODO: Implement storing gradients for W and B\n",
    "assert check_layer_param_gradient(FullyConnectedLayer(3, 4), X, 'W')\n",
    "assert check_layer_param_gradient(FullyConnectedLayer(3, 4), X, 'B')"
   ]
  },
  {
   "cell_type": "markdown",
   "metadata": {},
   "source": [
    "## Создаем нейронную сеть\n",
    "\n",
    "Теперь мы реализуем простейшую нейронную сеть с двумя полносвязным слоями и нелинейностью ReLU. Реализуйте функцию `compute_loss_and_gradients`, она должна запустить прямой и обратный проход через оба слоя для вычисления градиентов.\n",
    "\n",
    "Не забудьте реализовать очистку градиентов в начале функции."
   ]
  },
  {
   "cell_type": "code",
   "execution_count": 156,
   "metadata": {},
   "outputs": [
    {
     "name": "stdout",
     "output_type": "stream",
     "text": [
      "Checking gradient for W_L0_FC\n",
      "Gradient check passed!\n",
      "Checking gradient for B_L0_FC\n",
      "Gradient check passed!\n",
      "Checking gradient for W_L2_FC\n",
      "Gradient check passed!\n",
      "Checking gradient for B_L2_FC\n",
      "Gradient check passed!\n"
     ]
    },
    {
     "data": {
      "text/plain": [
       "True"
      ]
     },
     "execution_count": 156,
     "metadata": {},
     "output_type": "execute_result"
    }
   ],
   "source": [
    "# TODO: In model.py, implement compute_loss_and_gradients function\n",
    "model = TwoLayerNet(n_input = train_X.shape[1], n_output = 10, hidden_layer_size = 3, reg = 0)\n",
    "loss = model.compute_loss_and_gradients(train_X[:2], train_y[:2])\n",
    "\n",
    "# TODO Now implement backward pass and aggregate all of the params\n",
    "check_model_gradient(model, train_X[:2], train_y[:2])"
   ]
  },
  {
   "cell_type": "markdown",
   "metadata": {},
   "source": [
    "Теперь добавьте к модели регуляризацию - она должна прибавляться к loss и делать свой вклад в градиенты."
   ]
  },
  {
   "cell_type": "code",
   "execution_count": 157,
   "metadata": {},
   "outputs": [
    {
     "name": "stdout",
     "output_type": "stream",
     "text": [
      "Checking gradient for W_L0_FC\n",
      "Gradient check passed!\n",
      "Checking gradient for B_L0_FC\n",
      "Gradient check passed!\n",
      "Checking gradient for W_L2_FC\n",
      "Gradient check passed!\n",
      "Checking gradient for B_L2_FC\n",
      "Gradient check passed!\n"
     ]
    },
    {
     "data": {
      "text/plain": [
       "True"
      ]
     },
     "execution_count": 157,
     "metadata": {},
     "output_type": "execute_result"
    }
   ],
   "source": [
    "# TODO Now implement l2 regularization in the forward and backward pass\n",
    "model_with_reg = TwoLayerNet(n_input = train_X.shape[1], n_output = 10, hidden_layer_size = 3, reg = 1e1)\n",
    "loss_with_reg = model_with_reg.compute_loss_and_gradients(train_X[:2], train_y[:2])\n",
    "assert loss_with_reg > loss and not np.isclose(loss_with_reg, loss), \\\n",
    "    \"Loss with regularization (%2.4f) should be higher than without it (%2.4f)!\" % (loss, loss_with_reg)\n",
    "\n",
    "check_model_gradient(model_with_reg, train_X[:2], train_y[:2])"
   ]
  },
  {
   "cell_type": "markdown",
   "metadata": {},
   "source": [
    "Также реализуем функцию предсказания (вычисления значения) модели на новых данных.\n",
    "\n",
    "Какое значение точности мы ожидаем увидеть до начала тренировки?"
   ]
  },
  {
   "cell_type": "code",
   "execution_count": 158,
   "metadata": {},
   "outputs": [
    {
     "data": {
      "text/plain": [
       "0.1"
      ]
     },
     "execution_count": 158,
     "metadata": {},
     "output_type": "execute_result"
    }
   ],
   "source": [
    "# Finally, implement predict function!\n",
    "\n",
    "# TODO: Implement predict function\n",
    "# What would be the value we expect?\n",
    "multiclass_accuracy(model_with_reg.predict(train_X[:30]), train_y[:30]) "
   ]
  },
  {
   "cell_type": "markdown",
   "metadata": {},
   "source": [
    "# Допишем код для процесса тренировки\n",
    "\n",
    "Если все реализовано корректно, значение функции ошибки должно уменьшаться с каждой эпохой, пусть и медленно. Не беспокойтесь пока про validation accuracy."
   ]
  },
  {
   "cell_type": "code",
   "execution_count": 160,
   "metadata": {},
   "outputs": [
    {
     "name": "stdout",
     "output_type": "stream",
     "text": [
      "Loss: 2.328951, Train accuracy: 0.196667, val accuracy: 0.206000\n",
      "Loss: 2.471103, Train accuracy: 0.196667, val accuracy: 0.206000\n",
      "Loss: 2.314737, Train accuracy: 0.196667, val accuracy: 0.206000\n"
     ]
    },
    {
     "ename": "KeyboardInterrupt",
     "evalue": "",
     "output_type": "error",
     "traceback": [
      "\u001b[0;31m---------------------------------------------------------------------------\u001b[0m",
      "\u001b[0;31mKeyboardInterrupt\u001b[0m                         Traceback (most recent call last)",
      "\u001b[0;32m<ipython-input-160-f4364dceba81>\u001b[0m in \u001b[0;36m<module>\u001b[0;34m\u001b[0m\n\u001b[1;32m      5\u001b[0m \u001b[0;31m# TODO Implement missing pieces in Trainer.fit function\u001b[0m\u001b[0;34m\u001b[0m\u001b[0;34m\u001b[0m\u001b[0;34m\u001b[0m\u001b[0m\n\u001b[1;32m      6\u001b[0m \u001b[0;31m# You should expect loss to go down every epoch, even if it's slow\u001b[0m\u001b[0;34m\u001b[0m\u001b[0;34m\u001b[0m\u001b[0;34m\u001b[0m\u001b[0m\n\u001b[0;32m----> 7\u001b[0;31m \u001b[0mloss_history\u001b[0m\u001b[0;34m,\u001b[0m \u001b[0mtrain_history\u001b[0m\u001b[0;34m,\u001b[0m \u001b[0mval_history\u001b[0m \u001b[0;34m=\u001b[0m \u001b[0mtrainer\u001b[0m\u001b[0;34m.\u001b[0m\u001b[0mfit\u001b[0m\u001b[0;34m(\u001b[0m\u001b[0;34m)\u001b[0m\u001b[0;34m\u001b[0m\u001b[0;34m\u001b[0m\u001b[0m\n\u001b[0m",
      "\u001b[0;32m/mnt/hgfs/HostWorkspace/ml/dlcourse.ai/practice/assignments/assignment2/trainer.py\u001b[0m in \u001b[0;36mfit\u001b[0;34m(self)\u001b[0m\n\u001b[1;32m    102\u001b[0m                 \u001b[0mbatch_X\u001b[0m \u001b[0;34m=\u001b[0m \u001b[0mself\u001b[0m\u001b[0;34m.\u001b[0m\u001b[0mdataset\u001b[0m\u001b[0;34m.\u001b[0m\u001b[0mtrain_X\u001b[0m\u001b[0;34m[\u001b[0m\u001b[0mbatch_indices\u001b[0m\u001b[0;34m]\u001b[0m\u001b[0;34m\u001b[0m\u001b[0;34m\u001b[0m\u001b[0m\n\u001b[1;32m    103\u001b[0m                 \u001b[0mbatch_y\u001b[0m \u001b[0;34m=\u001b[0m \u001b[0mself\u001b[0m\u001b[0;34m.\u001b[0m\u001b[0mdataset\u001b[0m\u001b[0;34m.\u001b[0m\u001b[0mtrain_y\u001b[0m\u001b[0;34m[\u001b[0m\u001b[0mbatch_indices\u001b[0m\u001b[0;34m]\u001b[0m\u001b[0;34m\u001b[0m\u001b[0;34m\u001b[0m\u001b[0m\n\u001b[0;32m--> 104\u001b[0;31m                 \u001b[0mloss\u001b[0m \u001b[0;34m=\u001b[0m \u001b[0mself\u001b[0m\u001b[0;34m.\u001b[0m\u001b[0mmodel\u001b[0m\u001b[0;34m.\u001b[0m\u001b[0mcompute_loss_and_gradients\u001b[0m\u001b[0;34m(\u001b[0m\u001b[0mbatch_X\u001b[0m\u001b[0;34m,\u001b[0m \u001b[0mbatch_y\u001b[0m\u001b[0;34m)\u001b[0m\u001b[0;34m\u001b[0m\u001b[0;34m\u001b[0m\u001b[0m\n\u001b[0m\u001b[1;32m    105\u001b[0m \u001b[0;34m\u001b[0m\u001b[0m\n\u001b[1;32m    106\u001b[0m                 \u001b[0;32mfor\u001b[0m \u001b[0mparam_name\u001b[0m\u001b[0;34m,\u001b[0m \u001b[0mparam\u001b[0m \u001b[0;32min\u001b[0m \u001b[0mself\u001b[0m\u001b[0;34m.\u001b[0m\u001b[0mmodel\u001b[0m\u001b[0;34m.\u001b[0m\u001b[0mparams\u001b[0m\u001b[0;34m(\u001b[0m\u001b[0;34m)\u001b[0m\u001b[0;34m.\u001b[0m\u001b[0mitems\u001b[0m\u001b[0;34m(\u001b[0m\u001b[0;34m)\u001b[0m\u001b[0;34m:\u001b[0m\u001b[0;34m\u001b[0m\u001b[0;34m\u001b[0m\u001b[0m\n",
      "\u001b[0;32m/mnt/hgfs/HostWorkspace/ml/dlcourse.ai/practice/assignments/assignment2/model.py\u001b[0m in \u001b[0;36mcompute_loss_and_gradients\u001b[0;34m(self, X, y)\u001b[0m\n\u001b[1;32m     47\u001b[0m         \u001b[0mprev_layer_output\u001b[0m \u001b[0;34m=\u001b[0m \u001b[0mX\u001b[0m\u001b[0;34m\u001b[0m\u001b[0;34m\u001b[0m\u001b[0m\n\u001b[1;32m     48\u001b[0m         \u001b[0;32mfor\u001b[0m \u001b[0mlayer\u001b[0m \u001b[0;32min\u001b[0m \u001b[0mself\u001b[0m\u001b[0;34m.\u001b[0m\u001b[0mlayers\u001b[0m\u001b[0;34m:\u001b[0m\u001b[0;34m\u001b[0m\u001b[0;34m\u001b[0m\u001b[0m\n\u001b[0;32m---> 49\u001b[0;31m             \u001b[0mlayer_output\u001b[0m \u001b[0;34m=\u001b[0m \u001b[0mlayer\u001b[0m\u001b[0;34m.\u001b[0m\u001b[0mforward\u001b[0m\u001b[0;34m(\u001b[0m\u001b[0mprev_layer_output\u001b[0m\u001b[0;34m)\u001b[0m\u001b[0;34m\u001b[0m\u001b[0;34m\u001b[0m\u001b[0m\n\u001b[0m\u001b[1;32m     50\u001b[0m             \u001b[0mprev_layer_output\u001b[0m \u001b[0;34m=\u001b[0m \u001b[0mlayer_output\u001b[0m\u001b[0;34m\u001b[0m\u001b[0;34m\u001b[0m\u001b[0m\n\u001b[1;32m     51\u001b[0m         \u001b[0mloss\u001b[0m\u001b[0;34m,\u001b[0m \u001b[0mloss_grad\u001b[0m \u001b[0;34m=\u001b[0m \u001b[0msoftmax_with_cross_entropy\u001b[0m\u001b[0;34m(\u001b[0m\u001b[0mlayer_output\u001b[0m\u001b[0;34m,\u001b[0m \u001b[0my\u001b[0m\u001b[0;34m)\u001b[0m\u001b[0;34m\u001b[0m\u001b[0;34m\u001b[0m\u001b[0m\n",
      "\u001b[0;32m/mnt/hgfs/HostWorkspace/ml/dlcourse.ai/practice/assignments/assignment2/layers.py\u001b[0m in \u001b[0;36mforward\u001b[0;34m(self, X)\u001b[0m\n\u001b[1;32m    192\u001b[0m         \u001b[0;31m# Move B array inside W and expand X\u001b[0m\u001b[0;34m\u001b[0m\u001b[0;34m\u001b[0m\u001b[0;34m\u001b[0m\u001b[0m\n\u001b[1;32m    193\u001b[0m         \u001b[0mX_expanded\u001b[0m \u001b[0;34m=\u001b[0m \u001b[0mnp\u001b[0m\u001b[0;34m.\u001b[0m\u001b[0mhstack\u001b[0m\u001b[0;34m(\u001b[0m\u001b[0;34m[\u001b[0m\u001b[0mX\u001b[0m\u001b[0;34m,\u001b[0m \u001b[0mnp\u001b[0m\u001b[0;34m.\u001b[0m\u001b[0mones\u001b[0m\u001b[0;34m(\u001b[0m\u001b[0;34m(\u001b[0m\u001b[0mX\u001b[0m\u001b[0;34m.\u001b[0m\u001b[0mshape\u001b[0m\u001b[0;34m[\u001b[0m\u001b[0;36m0\u001b[0m\u001b[0;34m]\u001b[0m\u001b[0;34m,\u001b[0m \u001b[0;36m1\u001b[0m\u001b[0;34m)\u001b[0m\u001b[0;34m)\u001b[0m\u001b[0;34m]\u001b[0m\u001b[0;34m)\u001b[0m\u001b[0;34m\u001b[0m\u001b[0;34m\u001b[0m\u001b[0m\n\u001b[0;32m--> 194\u001b[0;31m         \u001b[0mW_expanded\u001b[0m \u001b[0;34m=\u001b[0m \u001b[0mnp\u001b[0m\u001b[0;34m.\u001b[0m\u001b[0mvstack\u001b[0m\u001b[0;34m(\u001b[0m\u001b[0;34m[\u001b[0m\u001b[0mself\u001b[0m\u001b[0;34m.\u001b[0m\u001b[0mW\u001b[0m\u001b[0;34m.\u001b[0m\u001b[0mvalue\u001b[0m\u001b[0;34m,\u001b[0m \u001b[0mself\u001b[0m\u001b[0;34m.\u001b[0m\u001b[0mB\u001b[0m\u001b[0;34m.\u001b[0m\u001b[0mvalue\u001b[0m\u001b[0;34m]\u001b[0m\u001b[0;34m)\u001b[0m\u001b[0;34m\u001b[0m\u001b[0;34m\u001b[0m\u001b[0m\n\u001b[0m\u001b[1;32m    195\u001b[0m \u001b[0;34m\u001b[0m\u001b[0m\n\u001b[1;32m    196\u001b[0m         \u001b[0ml_result\u001b[0m \u001b[0;34m=\u001b[0m \u001b[0mnp\u001b[0m\u001b[0;34m.\u001b[0m\u001b[0mdot\u001b[0m\u001b[0;34m(\u001b[0m\u001b[0mX_expanded\u001b[0m\u001b[0;34m,\u001b[0m \u001b[0mW_expanded\u001b[0m\u001b[0;34m)\u001b[0m\u001b[0;34m\u001b[0m\u001b[0;34m\u001b[0m\u001b[0m\n",
      "\u001b[0;32m<__array_function__ internals>\u001b[0m in \u001b[0;36mvstack\u001b[0;34m(*args, **kwargs)\u001b[0m\n",
      "\u001b[0;32m/mnt/hgfs/HostWorkspace/ml/.venv/lib/python3.7/site-packages/numpy/core/shape_base.py\u001b[0m in \u001b[0;36mvstack\u001b[0;34m(tup)\u001b[0m\n\u001b[1;32m    281\u001b[0m     \u001b[0;32mif\u001b[0m \u001b[0;32mnot\u001b[0m \u001b[0misinstance\u001b[0m\u001b[0;34m(\u001b[0m\u001b[0marrs\u001b[0m\u001b[0;34m,\u001b[0m \u001b[0mlist\u001b[0m\u001b[0;34m)\u001b[0m\u001b[0;34m:\u001b[0m\u001b[0;34m\u001b[0m\u001b[0;34m\u001b[0m\u001b[0m\n\u001b[1;32m    282\u001b[0m         \u001b[0marrs\u001b[0m \u001b[0;34m=\u001b[0m \u001b[0;34m[\u001b[0m\u001b[0marrs\u001b[0m\u001b[0;34m]\u001b[0m\u001b[0;34m\u001b[0m\u001b[0;34m\u001b[0m\u001b[0m\n\u001b[0;32m--> 283\u001b[0;31m     \u001b[0;32mreturn\u001b[0m \u001b[0m_nx\u001b[0m\u001b[0;34m.\u001b[0m\u001b[0mconcatenate\u001b[0m\u001b[0;34m(\u001b[0m\u001b[0marrs\u001b[0m\u001b[0;34m,\u001b[0m \u001b[0;36m0\u001b[0m\u001b[0;34m)\u001b[0m\u001b[0;34m\u001b[0m\u001b[0;34m\u001b[0m\u001b[0m\n\u001b[0m\u001b[1;32m    284\u001b[0m \u001b[0;34m\u001b[0m\u001b[0m\n\u001b[1;32m    285\u001b[0m \u001b[0;34m\u001b[0m\u001b[0m\n",
      "\u001b[0;32m<__array_function__ internals>\u001b[0m in \u001b[0;36mconcatenate\u001b[0;34m(*args, **kwargs)\u001b[0m\n",
      "\u001b[0;31mKeyboardInterrupt\u001b[0m: "
     ]
    }
   ],
   "source": [
    "model = TwoLayerNet(n_input = train_X.shape[1], n_output = 10, hidden_layer_size = 100, reg = 1e1)\n",
    "dataset = Dataset(train_X, train_y, val_X, val_y)\n",
    "trainer = Trainer(model, dataset, SGD(), learning_rate = 1e-2)\n",
    "\n",
    "# TODO Implement missing pieces in Trainer.fit function\n",
    "# You should expect loss to go down every epoch, even if it's slow\n",
    "loss_history, train_history, val_history = trainer.fit()"
   ]
  },
  {
   "cell_type": "code",
   "execution_count": null,
   "metadata": {},
   "outputs": [],
   "source": [
    "plt.plot(train_history)\n",
    "plt.plot(val_history)"
   ]
  },
  {
   "cell_type": "markdown",
   "metadata": {},
   "source": [
    "# Улучшаем процесс тренировки\n",
    "\n",
    "Мы реализуем несколько ключевых оптимизаций, необходимых для тренировки современных нейросетей."
   ]
  },
  {
   "cell_type": "markdown",
   "metadata": {},
   "source": [
    "## Уменьшение скорости обучения (learning rate decay)\n",
    "\n",
    "Одна из необходимых оптимизаций во время тренировки нейронных сетей - постепенное уменьшение скорости обучения по мере тренировки.\n",
    "\n",
    "Один из стандартных методов - уменьшение скорости обучения (learning rate) каждые N эпох на коэффициент d (часто называемый decay). Значения N и d, как всегда, являются гиперпараметрами и должны подбираться на основе эффективности на проверочных данных (validation data). \n",
    "\n",
    "В нашем случае N будет равным 1."
   ]
  },
  {
   "cell_type": "code",
   "execution_count": 117,
   "metadata": {},
   "outputs": [
    {
     "name": "stdout",
     "output_type": "stream",
     "text": [
      "Loss: 2.304175, Train accuracy: 0.196667, val accuracy: 0.206000\n",
      "Loss: 2.301928, Train accuracy: 0.196667, val accuracy: 0.206000\n",
      "Loss: 2.192322, Train accuracy: 0.196667, val accuracy: 0.206000\n",
      "Loss: 2.238180, Train accuracy: 0.196667, val accuracy: 0.206000\n",
      "Loss: 2.317753, Train accuracy: 0.196667, val accuracy: 0.206000\n",
      "Loss: 2.237427, Train accuracy: 0.196667, val accuracy: 0.206000\n",
      "Loss: 2.285279, Train accuracy: 0.196667, val accuracy: 0.206000\n",
      "Loss: 2.285596, Train accuracy: 0.196667, val accuracy: 0.206000\n",
      "Loss: 2.318872, Train accuracy: 0.196667, val accuracy: 0.206000\n",
      "Loss: 2.253910, Train accuracy: 0.196667, val accuracy: 0.206000\n",
      "Loss: 2.336378, Train accuracy: 0.196667, val accuracy: 0.206000\n",
      "Loss: 2.319769, Train accuracy: 0.196667, val accuracy: 0.206000\n",
      "Loss: 2.320664, Train accuracy: 0.196667, val accuracy: 0.206000\n",
      "Loss: 2.303892, Train accuracy: 0.196667, val accuracy: 0.206000\n",
      "Loss: 2.298814, Train accuracy: 0.196667, val accuracy: 0.206000\n",
      "Loss: 2.307200, Train accuracy: 0.196667, val accuracy: 0.206000\n",
      "Loss: 2.255195, Train accuracy: 0.196667, val accuracy: 0.206000\n",
      "Loss: 2.289333, Train accuracy: 0.196667, val accuracy: 0.206000\n",
      "Loss: 2.300101, Train accuracy: 0.196667, val accuracy: 0.206000\n",
      "Loss: 2.255569, Train accuracy: 0.196667, val accuracy: 0.206000\n"
     ]
    }
   ],
   "source": [
    "# TODO Implement learning rate decay inside Trainer.fit method\n",
    "# Decay should happen once per epoch\n",
    "\n",
    "model = TwoLayerNet(n_input = train_X.shape[1], n_output = 10, hidden_layer_size = 100, reg = 1e-1)\n",
    "dataset = Dataset(train_X, train_y, val_X, val_y)\n",
    "trainer = Trainer(model, dataset, SGD(), learning_rate_decay=0.99)\n",
    "\n",
    "initial_learning_rate = trainer.learning_rate\n",
    "loss_history, train_history, val_history = trainer.fit()\n",
    "\n",
    "assert trainer.learning_rate < initial_learning_rate, \"Learning rate should've been reduced\"\n",
    "assert trainer.learning_rate > 0.5*initial_learning_rate, \"Learning rate shouldn'tve been reduced that much!\""
   ]
  },
  {
   "cell_type": "markdown",
   "metadata": {},
   "source": [
    "# Накопление импульса (Momentum SGD)\n",
    "\n",
    "Другой большой класс оптимизаций - использование более эффективных методов градиентного спуска. Мы реализуем один из них - накопление импульса (Momentum SGD).\n",
    "\n",
    "Этот метод хранит скорость движения, использует градиент для ее изменения на каждом шаге, и изменяет веса пропорционально значению скорости.\n",
    "(Физическая аналогия: Вместо скорости градиенты теперь будут задавать ускорение, но будет присутствовать сила трения.)\n",
    "\n",
    "```\n",
    "velocity = momentum * velocity - learning_rate * gradient \n",
    "w = w + velocity\n",
    "```\n",
    "\n",
    "`momentum` здесь коэффициент затухания, который тоже является гиперпараметром (к счастью, для него часто есть хорошее значение по умолчанию, типичный диапазон -- 0.8-0.99).\n",
    "\n",
    "Несколько полезных ссылок, где метод разбирается более подробно:  \n",
    "http://cs231n.github.io/neural-networks-3/#sgd  \n",
    "https://distill.pub/2017/momentum/"
   ]
  },
  {
   "cell_type": "code",
   "execution_count": 163,
   "metadata": {},
   "outputs": [
    {
     "name": "stdout",
     "output_type": "stream",
     "text": [
      "Loss: 2.328485, Train accuracy: 0.148222, val accuracy: 0.140000\n",
      "Loss: 2.320588, Train accuracy: 0.148222, val accuracy: 0.140000\n"
     ]
    },
    {
     "ename": "KeyboardInterrupt",
     "evalue": "",
     "output_type": "error",
     "traceback": [
      "\u001b[0;31m---------------------------------------------------------------------------\u001b[0m",
      "\u001b[0;31mKeyboardInterrupt\u001b[0m                         Traceback (most recent call last)",
      "\u001b[0;32m<ipython-input-163-c381cf05523e>\u001b[0m in \u001b[0;36m<module>\u001b[0;34m\u001b[0m\n\u001b[1;32m      6\u001b[0m \u001b[0;34m\u001b[0m\u001b[0m\n\u001b[1;32m      7\u001b[0m \u001b[0;31m# You should see even better results than before!\u001b[0m\u001b[0;34m\u001b[0m\u001b[0;34m\u001b[0m\u001b[0;34m\u001b[0m\u001b[0m\n\u001b[0;32m----> 8\u001b[0;31m \u001b[0mloss_history\u001b[0m\u001b[0;34m,\u001b[0m \u001b[0mtrain_history\u001b[0m\u001b[0;34m,\u001b[0m \u001b[0mval_history\u001b[0m \u001b[0;34m=\u001b[0m \u001b[0mtrainer\u001b[0m\u001b[0;34m.\u001b[0m\u001b[0mfit\u001b[0m\u001b[0;34m(\u001b[0m\u001b[0;34m)\u001b[0m\u001b[0;34m\u001b[0m\u001b[0;34m\u001b[0m\u001b[0m\n\u001b[0m",
      "\u001b[0;32m/mnt/hgfs/HostWorkspace/ml/dlcourse.ai/practice/assignments/assignment2/trainer.py\u001b[0m in \u001b[0;36mfit\u001b[0;34m(self)\u001b[0m\n\u001b[1;32m    102\u001b[0m                 \u001b[0mbatch_X\u001b[0m \u001b[0;34m=\u001b[0m \u001b[0mself\u001b[0m\u001b[0;34m.\u001b[0m\u001b[0mdataset\u001b[0m\u001b[0;34m.\u001b[0m\u001b[0mtrain_X\u001b[0m\u001b[0;34m[\u001b[0m\u001b[0mbatch_indices\u001b[0m\u001b[0;34m]\u001b[0m\u001b[0;34m\u001b[0m\u001b[0;34m\u001b[0m\u001b[0m\n\u001b[1;32m    103\u001b[0m                 \u001b[0mbatch_y\u001b[0m \u001b[0;34m=\u001b[0m \u001b[0mself\u001b[0m\u001b[0;34m.\u001b[0m\u001b[0mdataset\u001b[0m\u001b[0;34m.\u001b[0m\u001b[0mtrain_y\u001b[0m\u001b[0;34m[\u001b[0m\u001b[0mbatch_indices\u001b[0m\u001b[0;34m]\u001b[0m\u001b[0;34m\u001b[0m\u001b[0;34m\u001b[0m\u001b[0m\n\u001b[0;32m--> 104\u001b[0;31m                 \u001b[0mloss\u001b[0m \u001b[0;34m=\u001b[0m \u001b[0mself\u001b[0m\u001b[0;34m.\u001b[0m\u001b[0mmodel\u001b[0m\u001b[0;34m.\u001b[0m\u001b[0mcompute_loss_and_gradients\u001b[0m\u001b[0;34m(\u001b[0m\u001b[0mbatch_X\u001b[0m\u001b[0;34m,\u001b[0m \u001b[0mbatch_y\u001b[0m\u001b[0;34m)\u001b[0m\u001b[0;34m\u001b[0m\u001b[0;34m\u001b[0m\u001b[0m\n\u001b[0m\u001b[1;32m    105\u001b[0m \u001b[0;34m\u001b[0m\u001b[0m\n\u001b[1;32m    106\u001b[0m                 \u001b[0;32mfor\u001b[0m \u001b[0mparam_name\u001b[0m\u001b[0;34m,\u001b[0m \u001b[0mparam\u001b[0m \u001b[0;32min\u001b[0m \u001b[0mself\u001b[0m\u001b[0;34m.\u001b[0m\u001b[0mmodel\u001b[0m\u001b[0;34m.\u001b[0m\u001b[0mparams\u001b[0m\u001b[0;34m(\u001b[0m\u001b[0;34m)\u001b[0m\u001b[0;34m.\u001b[0m\u001b[0mitems\u001b[0m\u001b[0;34m(\u001b[0m\u001b[0;34m)\u001b[0m\u001b[0;34m:\u001b[0m\u001b[0;34m\u001b[0m\u001b[0;34m\u001b[0m\u001b[0m\n",
      "\u001b[0;32m/mnt/hgfs/HostWorkspace/ml/dlcourse.ai/practice/assignments/assignment2/model.py\u001b[0m in \u001b[0;36mcompute_loss_and_gradients\u001b[0;34m(self, X, y)\u001b[0m\n\u001b[1;32m     47\u001b[0m         \u001b[0mprev_layer_output\u001b[0m \u001b[0;34m=\u001b[0m \u001b[0mX\u001b[0m\u001b[0;34m\u001b[0m\u001b[0;34m\u001b[0m\u001b[0m\n\u001b[1;32m     48\u001b[0m         \u001b[0;32mfor\u001b[0m \u001b[0mlayer\u001b[0m \u001b[0;32min\u001b[0m \u001b[0mself\u001b[0m\u001b[0;34m.\u001b[0m\u001b[0mlayers\u001b[0m\u001b[0;34m:\u001b[0m\u001b[0;34m\u001b[0m\u001b[0;34m\u001b[0m\u001b[0m\n\u001b[0;32m---> 49\u001b[0;31m             \u001b[0mlayer_output\u001b[0m \u001b[0;34m=\u001b[0m \u001b[0mlayer\u001b[0m\u001b[0;34m.\u001b[0m\u001b[0mforward\u001b[0m\u001b[0;34m(\u001b[0m\u001b[0mprev_layer_output\u001b[0m\u001b[0;34m)\u001b[0m\u001b[0;34m\u001b[0m\u001b[0;34m\u001b[0m\u001b[0m\n\u001b[0m\u001b[1;32m     50\u001b[0m             \u001b[0mprev_layer_output\u001b[0m \u001b[0;34m=\u001b[0m \u001b[0mlayer_output\u001b[0m\u001b[0;34m\u001b[0m\u001b[0;34m\u001b[0m\u001b[0m\n\u001b[1;32m     51\u001b[0m         \u001b[0mloss\u001b[0m\u001b[0;34m,\u001b[0m \u001b[0mloss_grad\u001b[0m \u001b[0;34m=\u001b[0m \u001b[0msoftmax_with_cross_entropy\u001b[0m\u001b[0;34m(\u001b[0m\u001b[0mlayer_output\u001b[0m\u001b[0;34m,\u001b[0m \u001b[0my\u001b[0m\u001b[0;34m)\u001b[0m\u001b[0;34m\u001b[0m\u001b[0;34m\u001b[0m\u001b[0m\n",
      "\u001b[0;32m/mnt/hgfs/HostWorkspace/ml/dlcourse.ai/practice/assignments/assignment2/layers.py\u001b[0m in \u001b[0;36mforward\u001b[0;34m(self, X)\u001b[0m\n\u001b[1;32m    179\u001b[0m         \u001b[0mself\u001b[0m\u001b[0;34m.\u001b[0m\u001b[0mX\u001b[0m \u001b[0;34m=\u001b[0m \u001b[0mX\u001b[0m\u001b[0;34m.\u001b[0m\u001b[0mcopy\u001b[0m\u001b[0;34m(\u001b[0m\u001b[0;34m)\u001b[0m\u001b[0;34m\u001b[0m\u001b[0;34m\u001b[0m\u001b[0m\n\u001b[1;32m    180\u001b[0m \u001b[0;34m\u001b[0m\u001b[0m\n\u001b[0;32m--> 181\u001b[0;31m         \u001b[0ml_result\u001b[0m \u001b[0;34m=\u001b[0m \u001b[0mnp\u001b[0m\u001b[0;34m.\u001b[0m\u001b[0mdot\u001b[0m\u001b[0;34m(\u001b[0m\u001b[0mX\u001b[0m\u001b[0;34m,\u001b[0m \u001b[0mself\u001b[0m\u001b[0;34m.\u001b[0m\u001b[0mW\u001b[0m\u001b[0;34m.\u001b[0m\u001b[0mvalue\u001b[0m\u001b[0;34m)\u001b[0m \u001b[0;34m+\u001b[0m \u001b[0mself\u001b[0m\u001b[0;34m.\u001b[0m\u001b[0mB\u001b[0m\u001b[0;34m.\u001b[0m\u001b[0mvalue\u001b[0m\u001b[0;34m\u001b[0m\u001b[0;34m\u001b[0m\u001b[0m\n\u001b[0m\u001b[1;32m    182\u001b[0m \u001b[0;34m\u001b[0m\u001b[0m\n\u001b[1;32m    183\u001b[0m         \u001b[0;32mreturn\u001b[0m \u001b[0ml_result\u001b[0m\u001b[0;34m\u001b[0m\u001b[0;34m\u001b[0m\u001b[0m\n",
      "\u001b[0;32m<__array_function__ internals>\u001b[0m in \u001b[0;36mdot\u001b[0;34m(*args, **kwargs)\u001b[0m\n",
      "\u001b[0;31mKeyboardInterrupt\u001b[0m: "
     ]
    }
   ],
   "source": [
    "# TODO: Implement MomentumSGD.update function in optim.py\n",
    "\n",
    "model = TwoLayerNet(n_input = train_X.shape[1], n_output = 10, hidden_layer_size = 100, reg = 1e-1)\n",
    "dataset = Dataset(train_X, train_y, val_X, val_y)\n",
    "trainer = Trainer(model, dataset, MomentumSGD(), learning_rate=1e-4, learning_rate_decay=0.99)\n",
    "\n",
    "# You should see even better results than before!\n",
    "loss_history, train_history, val_history = trainer.fit()"
   ]
  },
  {
   "cell_type": "markdown",
   "metadata": {},
   "source": [
    "# Ну что, давайте уже тренировать сеть!"
   ]
  },
  {
   "cell_type": "markdown",
   "metadata": {},
   "source": [
    "## Последний тест - переобучимся (overfit) на маленьком наборе данных\n",
    "\n",
    "Хороший способ проверить, все ли реализовано корректно - переобучить сеть на маленьком наборе данных.  \n",
    "Наша модель обладает достаточной мощностью, чтобы приблизить маленький набор данных идеально, поэтому мы ожидаем, что на нем мы быстро дойдем до 100% точности на тренировочном наборе. \n",
    "\n",
    "Если этого не происходит, то где-то была допущена ошибка!"
   ]
  },
  {
   "cell_type": "code",
   "execution_count": 184,
   "metadata": {},
   "outputs": [
    {
     "name": "stdout",
     "output_type": "stream",
     "text": [
      "Loss: 2.338915, Train accuracy: 0.200000, val accuracy: 0.133333\n",
      "Loss: 2.312229, Train accuracy: 0.200000, val accuracy: 0.133333\n",
      "Loss: 2.295898, Train accuracy: 0.200000, val accuracy: 0.133333\n",
      "Loss: 2.324493, Train accuracy: 0.266667, val accuracy: 0.000000\n",
      "Loss: 2.283987, Train accuracy: 0.266667, val accuracy: 0.000000\n",
      "Loss: 2.315891, Train accuracy: 0.266667, val accuracy: 0.000000\n",
      "Loss: 2.261552, Train accuracy: 0.266667, val accuracy: 0.000000\n",
      "Loss: 2.283197, Train accuracy: 0.266667, val accuracy: 0.000000\n",
      "Loss: 2.286018, Train accuracy: 0.400000, val accuracy: 0.000000\n",
      "Loss: 2.070104, Train accuracy: 0.400000, val accuracy: 0.000000\n",
      "Loss: 1.994594, Train accuracy: 0.400000, val accuracy: 0.000000\n",
      "Loss: 1.974084, Train accuracy: 0.400000, val accuracy: 0.000000\n",
      "Loss: 1.850787, Train accuracy: 0.400000, val accuracy: 0.000000\n",
      "Loss: 2.013864, Train accuracy: 0.400000, val accuracy: 0.000000\n",
      "Loss: 1.935957, Train accuracy: 0.400000, val accuracy: 0.000000\n",
      "Loss: 1.964013, Train accuracy: 0.333333, val accuracy: 0.000000\n",
      "Loss: 1.887921, Train accuracy: 0.400000, val accuracy: 0.000000\n",
      "Loss: 2.207178, Train accuracy: 0.400000, val accuracy: 0.000000\n",
      "Loss: 1.839452, Train accuracy: 0.400000, val accuracy: 0.000000\n",
      "Loss: 1.434220, Train accuracy: 0.400000, val accuracy: 0.000000\n",
      "Loss: 1.664808, Train accuracy: 0.400000, val accuracy: 0.000000\n",
      "Loss: 2.213385, Train accuracy: 0.466667, val accuracy: 0.066667\n",
      "Loss: 1.487920, Train accuracy: 0.400000, val accuracy: 0.000000\n",
      "Loss: 1.975182, Train accuracy: 0.466667, val accuracy: 0.000000\n",
      "Loss: 1.988926, Train accuracy: 0.466667, val accuracy: 0.000000\n",
      "Loss: 1.585985, Train accuracy: 0.466667, val accuracy: 0.000000\n",
      "Loss: 1.842593, Train accuracy: 0.466667, val accuracy: 0.066667\n",
      "Loss: 1.856562, Train accuracy: 0.466667, val accuracy: 0.066667\n",
      "Loss: 2.283838, Train accuracy: 0.466667, val accuracy: 0.066667\n",
      "Loss: 2.308757, Train accuracy: 0.600000, val accuracy: 0.066667\n",
      "Loss: 1.596092, Train accuracy: 0.466667, val accuracy: 0.066667\n",
      "Loss: 1.431876, Train accuracy: 0.466667, val accuracy: 0.000000\n",
      "Loss: 1.747832, Train accuracy: 0.600000, val accuracy: 0.000000\n",
      "Loss: 1.406978, Train accuracy: 0.600000, val accuracy: 0.066667\n",
      "Loss: 1.815165, Train accuracy: 0.600000, val accuracy: 0.066667\n",
      "Loss: 1.519852, Train accuracy: 0.600000, val accuracy: 0.066667\n",
      "Loss: 1.788742, Train accuracy: 0.600000, val accuracy: 0.000000\n",
      "Loss: 1.359045, Train accuracy: 0.666667, val accuracy: 0.000000\n",
      "Loss: 1.991893, Train accuracy: 0.600000, val accuracy: 0.000000\n",
      "Loss: 1.853956, Train accuracy: 0.666667, val accuracy: 0.066667\n",
      "Loss: 1.546123, Train accuracy: 0.666667, val accuracy: 0.066667\n",
      "Loss: 1.584463, Train accuracy: 0.666667, val accuracy: 0.066667\n",
      "Loss: 1.809981, Train accuracy: 0.666667, val accuracy: 0.066667\n",
      "Loss: 1.926878, Train accuracy: 0.733333, val accuracy: 0.066667\n",
      "Loss: 1.953568, Train accuracy: 0.666667, val accuracy: 0.000000\n",
      "Loss: 1.288756, Train accuracy: 0.733333, val accuracy: 0.066667\n",
      "Loss: 2.125174, Train accuracy: 0.800000, val accuracy: 0.066667\n",
      "Loss: 2.033539, Train accuracy: 0.733333, val accuracy: 0.066667\n",
      "Loss: 1.678676, Train accuracy: 0.733333, val accuracy: 0.133333\n",
      "Loss: 1.594084, Train accuracy: 0.733333, val accuracy: 0.066667\n",
      "Loss: 1.721013, Train accuracy: 0.733333, val accuracy: 0.066667\n",
      "Loss: 1.610055, Train accuracy: 0.733333, val accuracy: 0.066667\n",
      "Loss: 1.685437, Train accuracy: 0.733333, val accuracy: 0.133333\n",
      "Loss: 1.712685, Train accuracy: 0.733333, val accuracy: 0.133333\n",
      "Loss: 2.122929, Train accuracy: 0.733333, val accuracy: 0.133333\n",
      "Loss: 1.231919, Train accuracy: 0.733333, val accuracy: 0.066667\n",
      "Loss: 1.844883, Train accuracy: 0.733333, val accuracy: 0.133333\n",
      "Loss: 1.413830, Train accuracy: 0.733333, val accuracy: 0.066667\n",
      "Loss: 1.486079, Train accuracy: 0.733333, val accuracy: 0.066667\n",
      "Loss: 1.275748, Train accuracy: 0.733333, val accuracy: 0.066667\n",
      "Loss: 1.143126, Train accuracy: 0.733333, val accuracy: 0.066667\n",
      "Loss: 1.627540, Train accuracy: 0.733333, val accuracy: 0.066667\n",
      "Loss: 1.064598, Train accuracy: 0.733333, val accuracy: 0.066667\n",
      "Loss: 1.655261, Train accuracy: 0.733333, val accuracy: 0.066667\n",
      "Loss: 1.360506, Train accuracy: 0.733333, val accuracy: 0.066667\n",
      "Loss: 0.892242, Train accuracy: 0.733333, val accuracy: 0.066667\n",
      "Loss: 1.738448, Train accuracy: 0.733333, val accuracy: 0.066667\n",
      "Loss: 0.968383, Train accuracy: 0.733333, val accuracy: 0.066667\n",
      "Loss: 1.535061, Train accuracy: 0.733333, val accuracy: 0.066667\n",
      "Loss: 1.611373, Train accuracy: 0.733333, val accuracy: 0.066667\n",
      "Loss: 1.255358, Train accuracy: 0.733333, val accuracy: 0.066667\n",
      "Loss: 1.521409, Train accuracy: 0.733333, val accuracy: 0.066667\n",
      "Loss: 1.258093, Train accuracy: 0.733333, val accuracy: 0.066667\n",
      "Loss: 1.310944, Train accuracy: 0.800000, val accuracy: 0.066667\n",
      "Loss: 1.420642, Train accuracy: 0.800000, val accuracy: 0.066667\n",
      "Loss: 0.956797, Train accuracy: 0.800000, val accuracy: 0.066667\n",
      "Loss: 1.240664, Train accuracy: 0.800000, val accuracy: 0.066667\n",
      "Loss: 0.946598, Train accuracy: 0.800000, val accuracy: 0.066667\n",
      "Loss: 1.363920, Train accuracy: 0.800000, val accuracy: 0.066667\n",
      "Loss: 0.992322, Train accuracy: 0.800000, val accuracy: 0.066667\n",
      "Loss: 1.191512, Train accuracy: 0.866667, val accuracy: 0.066667\n",
      "Loss: 1.217273, Train accuracy: 0.933333, val accuracy: 0.066667\n",
      "Loss: 1.603413, Train accuracy: 0.866667, val accuracy: 0.066667\n",
      "Loss: 1.385038, Train accuracy: 0.866667, val accuracy: 0.066667\n",
      "Loss: 1.580318, Train accuracy: 0.933333, val accuracy: 0.066667\n",
      "Loss: 1.505926, Train accuracy: 0.933333, val accuracy: 0.066667\n",
      "Loss: 1.215839, Train accuracy: 0.933333, val accuracy: 0.066667\n",
      "Loss: 1.564143, Train accuracy: 0.933333, val accuracy: 0.066667\n",
      "Loss: 1.609864, Train accuracy: 0.933333, val accuracy: 0.066667\n",
      "Loss: 1.262643, Train accuracy: 0.933333, val accuracy: 0.066667\n",
      "Loss: 1.558043, Train accuracy: 0.933333, val accuracy: 0.066667\n",
      "Loss: 1.359740, Train accuracy: 0.933333, val accuracy: 0.066667\n",
      "Loss: 1.402451, Train accuracy: 0.933333, val accuracy: 0.066667\n",
      "Loss: 1.616189, Train accuracy: 0.933333, val accuracy: 0.066667\n",
      "Loss: 1.343328, Train accuracy: 0.933333, val accuracy: 0.066667\n",
      "Loss: 0.981907, Train accuracy: 0.933333, val accuracy: 0.000000\n",
      "Loss: 1.334784, Train accuracy: 0.933333, val accuracy: 0.066667\n",
      "Loss: 1.462568, Train accuracy: 0.933333, val accuracy: 0.000000\n",
      "Loss: 1.374926, Train accuracy: 0.933333, val accuracy: 0.000000\n",
      "Loss: 1.074631, Train accuracy: 0.933333, val accuracy: 0.000000\n",
      "Loss: 1.479541, Train accuracy: 0.933333, val accuracy: 0.000000\n",
      "Loss: 1.438015, Train accuracy: 0.933333, val accuracy: 0.000000\n",
      "Loss: 1.180732, Train accuracy: 0.933333, val accuracy: 0.000000\n",
      "Loss: 1.375094, Train accuracy: 0.933333, val accuracy: 0.000000\n",
      "Loss: 1.088667, Train accuracy: 0.933333, val accuracy: 0.000000\n",
      "Loss: 1.113545, Train accuracy: 0.933333, val accuracy: 0.000000\n",
      "Loss: 1.175002, Train accuracy: 0.933333, val accuracy: 0.000000\n",
      "Loss: 1.353240, Train accuracy: 0.933333, val accuracy: 0.000000\n",
      "Loss: 1.359663, Train accuracy: 0.933333, val accuracy: 0.000000\n",
      "Loss: 1.362584, Train accuracy: 0.933333, val accuracy: 0.000000\n",
      "Loss: 1.288960, Train accuracy: 1.000000, val accuracy: 0.000000\n",
      "Loss: 1.526066, Train accuracy: 1.000000, val accuracy: 0.000000\n",
      "Loss: 1.280057, Train accuracy: 0.933333, val accuracy: 0.000000\n",
      "Loss: 1.204795, Train accuracy: 1.000000, val accuracy: 0.000000\n",
      "Loss: 1.231001, Train accuracy: 0.933333, val accuracy: 0.000000\n",
      "Loss: 1.183882, Train accuracy: 1.000000, val accuracy: 0.000000\n",
      "Loss: 1.108098, Train accuracy: 0.933333, val accuracy: 0.000000\n",
      "Loss: 1.147421, Train accuracy: 1.000000, val accuracy: 0.000000\n",
      "Loss: 1.267964, Train accuracy: 1.000000, val accuracy: 0.000000\n",
      "Loss: 1.135625, Train accuracy: 1.000000, val accuracy: 0.000000\n",
      "Loss: 1.191970, Train accuracy: 0.933333, val accuracy: 0.000000\n",
      "Loss: 1.529471, Train accuracy: 1.000000, val accuracy: 0.000000\n",
      "Loss: 1.660169, Train accuracy: 1.000000, val accuracy: 0.000000\n",
      "Loss: 1.116764, Train accuracy: 1.000000, val accuracy: 0.000000\n",
      "Loss: 1.218712, Train accuracy: 1.000000, val accuracy: 0.000000\n",
      "Loss: 1.162098, Train accuracy: 1.000000, val accuracy: 0.000000\n",
      "Loss: 1.183101, Train accuracy: 1.000000, val accuracy: 0.000000\n"
     ]
    },
    {
     "name": "stdout",
     "output_type": "stream",
     "text": [
      "Loss: 1.226599, Train accuracy: 1.000000, val accuracy: 0.000000\n",
      "Loss: 1.473190, Train accuracy: 1.000000, val accuracy: 0.000000\n",
      "Loss: 1.103336, Train accuracy: 1.000000, val accuracy: 0.000000\n",
      "Loss: 1.215054, Train accuracy: 1.000000, val accuracy: 0.000000\n",
      "Loss: 1.240193, Train accuracy: 1.000000, val accuracy: 0.000000\n",
      "Loss: 1.305403, Train accuracy: 1.000000, val accuracy: 0.000000\n",
      "Loss: 1.449483, Train accuracy: 1.000000, val accuracy: 0.000000\n",
      "Loss: 1.326227, Train accuracy: 1.000000, val accuracy: 0.000000\n",
      "Loss: 1.486910, Train accuracy: 1.000000, val accuracy: 0.000000\n",
      "Loss: 1.141095, Train accuracy: 1.000000, val accuracy: 0.000000\n",
      "Loss: 1.468187, Train accuracy: 1.000000, val accuracy: 0.000000\n",
      "Loss: 1.291702, Train accuracy: 1.000000, val accuracy: 0.000000\n",
      "Loss: 1.535976, Train accuracy: 1.000000, val accuracy: 0.000000\n",
      "Loss: 1.329015, Train accuracy: 1.000000, val accuracy: 0.000000\n",
      "Loss: 1.208784, Train accuracy: 1.000000, val accuracy: 0.000000\n",
      "Loss: 1.392472, Train accuracy: 1.000000, val accuracy: 0.000000\n",
      "Loss: 1.194840, Train accuracy: 1.000000, val accuracy: 0.000000\n",
      "Loss: 1.448594, Train accuracy: 1.000000, val accuracy: 0.000000\n",
      "Loss: 1.330795, Train accuracy: 1.000000, val accuracy: 0.000000\n",
      "Loss: 1.392669, Train accuracy: 1.000000, val accuracy: 0.000000\n",
      "Loss: 1.288629, Train accuracy: 1.000000, val accuracy: 0.000000\n",
      "Loss: 1.278574, Train accuracy: 1.000000, val accuracy: 0.000000\n",
      "Loss: 1.135202, Train accuracy: 1.000000, val accuracy: 0.000000\n"
     ]
    }
   ],
   "source": [
    "data_size = 15\n",
    "model = TwoLayerNet(n_input = train_X.shape[1], n_output = 10, hidden_layer_size = 100, reg = 1e-1)\n",
    "dataset = Dataset(train_X[:data_size], train_y[:data_size], val_X[:data_size], val_y[:data_size])\n",
    "trainer = Trainer(model, dataset, SGD(), learning_rate=1e-1, num_epochs=150, batch_size=5)\n",
    "\n",
    "# You should expect this to reach 1.0 training accuracy \n",
    "loss_history, train_history, val_history = trainer.fit()"
   ]
  },
  {
   "cell_type": "markdown",
   "metadata": {},
   "source": [
    "Теперь найдем гипепараметры, для которых этот процесс сходится быстрее.\n",
    "Если все реализовано корректно, то существуют параметры, при которых процесс сходится в **20** эпох или еще быстрее.\n",
    "Найдите их!"
   ]
  },
  {
   "cell_type": "code",
   "execution_count": 262,
   "metadata": {},
   "outputs": [
    {
     "name": "stdout",
     "output_type": "stream",
     "text": [
      "Loss: 2.331967, Train accuracy: 0.200000, val accuracy: 0.133333\n",
      "Loss: 2.306540, Train accuracy: 0.200000, val accuracy: 0.066667\n",
      "Loss: 2.287366, Train accuracy: 0.266667, val accuracy: 0.066667\n",
      "Loss: 2.256818, Train accuracy: 0.200000, val accuracy: 0.066667\n",
      "Loss: 2.347946, Train accuracy: 0.333333, val accuracy: 0.066667\n",
      "Loss: 1.641416, Train accuracy: 0.400000, val accuracy: 0.000000\n",
      "Loss: 1.851788, Train accuracy: 0.400000, val accuracy: 0.000000\n",
      "Loss: 1.805868, Train accuracy: 0.400000, val accuracy: 0.066667\n",
      "Loss: 2.454963, Train accuracy: 0.400000, val accuracy: 0.066667\n",
      "Loss: 2.188016, Train accuracy: 0.600000, val accuracy: 0.000000\n",
      "Loss: 1.979768, Train accuracy: 0.533333, val accuracy: 0.000000\n",
      "Loss: 2.525085, Train accuracy: 0.533333, val accuracy: 0.000000\n",
      "Loss: 1.369898, Train accuracy: 0.666667, val accuracy: 0.066667\n",
      "Loss: 3.233529, Train accuracy: 0.666667, val accuracy: 0.066667\n",
      "Loss: 2.698785, Train accuracy: 0.600000, val accuracy: 0.000000\n",
      "Loss: 1.656712, Train accuracy: 0.533333, val accuracy: 0.000000\n",
      "Loss: 2.812545, Train accuracy: 0.666667, val accuracy: 0.066667\n",
      "Loss: 1.875657, Train accuracy: 0.733333, val accuracy: 0.066667\n",
      "Loss: 2.594027, Train accuracy: 0.733333, val accuracy: 0.066667\n",
      "Loss: 3.079897, Train accuracy: 0.800000, val accuracy: 0.133333\n",
      "Loss: 2.690879, Train accuracy: 0.733333, val accuracy: 0.000000\n",
      "Loss: 2.799822, Train accuracy: 0.866667, val accuracy: 0.000000\n",
      "Loss: 2.196077, Train accuracy: 0.666667, val accuracy: 0.133333\n",
      "Loss: 1.759914, Train accuracy: 0.800000, val accuracy: 0.000000\n",
      "Loss: 2.295081, Train accuracy: 1.000000, val accuracy: 0.000000\n",
      "Loss: 2.012794, Train accuracy: 0.933333, val accuracy: 0.066667\n",
      "Loss: 1.833793, Train accuracy: 0.866667, val accuracy: 0.000000\n",
      "Loss: 1.696832, Train accuracy: 0.866667, val accuracy: 0.000000\n",
      "Loss: 1.926520, Train accuracy: 1.000000, val accuracy: 0.000000\n",
      "Loss: 1.304761, Train accuracy: 1.000000, val accuracy: 0.000000\n",
      "Loss: 1.622355, Train accuracy: 0.866667, val accuracy: 0.133333\n",
      "Loss: 2.076267, Train accuracy: 0.933333, val accuracy: 0.066667\n",
      "Loss: 2.073896, Train accuracy: 0.866667, val accuracy: 0.000000\n",
      "Loss: 2.283584, Train accuracy: 0.866667, val accuracy: 0.000000\n",
      "Loss: 1.521369, Train accuracy: 0.933333, val accuracy: 0.000000\n",
      "Loss: 2.183948, Train accuracy: 1.000000, val accuracy: 0.000000\n",
      "Loss: 1.839531, Train accuracy: 1.000000, val accuracy: 0.000000\n",
      "Loss: 1.490178, Train accuracy: 1.000000, val accuracy: 0.066667\n",
      "Loss: 1.639490, Train accuracy: 1.000000, val accuracy: 0.000000\n",
      "Loss: 1.690843, Train accuracy: 1.000000, val accuracy: 0.000000\n"
     ]
    }
   ],
   "source": [
    "# Now, tweak some hyper parameters and make it train to 1.0 accuracy in 20 epochs or less\n",
    "\n",
    "model = TwoLayerNet(n_input = train_X.shape[1], n_output = 10, hidden_layer_size = 100, reg = 1e-1)\n",
    "dataset = Dataset(train_X[:data_size], train_y[:data_size], val_X[:data_size], val_y[:data_size])\n",
    "# TODO: Change any hyperparamers or optimizators to reach training accuracy in 20 epochs\n",
    "trainer = Trainer(model, dataset, MomentumSGD(momentum=0.85), learning_rate=0.8e-1, learning_rate_decay=1.0, num_epochs=40, batch_size=5)\n",
    "\n",
    "loss_history, train_history, val_history = trainer.fit()"
   ]
  },
  {
   "cell_type": "markdown",
   "metadata": {},
   "source": [
    "# Итак, основное мероприятие!\n",
    "\n",
    "Натренируйте лучшую нейросеть! Можно добавлять и изменять параметры, менять количество нейронов в слоях сети и как угодно экспериментировать. \n",
    "\n",
    "Добейтесь точности лучше **60%** на validation set."
   ]
  },
  {
   "cell_type": "code",
   "execution_count": null,
   "metadata": {
    "scrolled": true
   },
   "outputs": [],
   "source": [
    "# Let's train the best one-hidden-layer network we can\n",
    "\n",
    "learning_rates = 1e-4\n",
    "reg_strength = 1e-3\n",
    "learning_rate_decay = 0.999\n",
    "hidden_layer_size = 128\n",
    "num_epochs = 200\n",
    "batch_size = 64\n",
    "\n",
    "best_classifier = None\n",
    "best_val_accuracy = None\n",
    "\n",
    "loss_history = []\n",
    "train_history = []\n",
    "val_history = []\n",
    "\n",
    "# TODO find the best hyperparameters to train the network\n",
    "# Don't hesitate to add new values to the arrays above, perform experiments, use any tricks you want\n",
    "# You should expect to get to at least 40% of valudation accuracy\n",
    "# Save loss/train/history of the best classifier to the variables above\n",
    "\n",
    "print('best validation accuracy achieved: %f' % best_val_accuracy)"
   ]
  },
  {
   "cell_type": "code",
   "execution_count": null,
   "metadata": {},
   "outputs": [],
   "source": [
    "plt.figure(figsize=(15, 7))\n",
    "plt.subplot(211)\n",
    "plt.title(\"Loss\")\n",
    "plt.plot(loss_history)\n",
    "plt.subplot(212)\n",
    "plt.title(\"Train/validation accuracy\")\n",
    "plt.plot(train_history)\n",
    "plt.plot(val_history)"
   ]
  },
  {
   "cell_type": "markdown",
   "metadata": {},
   "source": [
    "# Как обычно, посмотрим, как наша лучшая модель работает на тестовых данных"
   ]
  },
  {
   "cell_type": "code",
   "execution_count": null,
   "metadata": {},
   "outputs": [],
   "source": [
    "test_pred = best_classifier.predict(test_X)\n",
    "test_accuracy = multiclass_accuracy(test_pred, test_y)\n",
    "print('Neural net test set accuracy: %f' % (test_accuracy, ))"
   ]
  }
 ],
 "metadata": {
  "hide_input": false,
  "kernelspec": {
   "display_name": "Python 3",
   "language": "python",
   "name": "python3"
  },
  "language_info": {
   "codemirror_mode": {
    "name": "ipython",
    "version": 3
   },
   "file_extension": ".py",
   "mimetype": "text/x-python",
   "name": "python",
   "nbconvert_exporter": "python",
   "pygments_lexer": "ipython3",
   "version": "3.7.5"
  },
  "toc": {
   "base_numbering": 1,
   "nav_menu": {},
   "number_sections": true,
   "sideBar": true,
   "skip_h1_title": false,
   "title_cell": "Table of Contents",
   "title_sidebar": "Contents",
   "toc_cell": false,
   "toc_position": {},
   "toc_section_display": true,
   "toc_window_display": false
  },
  "varInspector": {
   "cols": {
    "lenName": 16,
    "lenType": 16,
    "lenVar": 40
   },
   "kernels_config": {
    "python": {
     "delete_cmd_postfix": "",
     "delete_cmd_prefix": "del ",
     "library": "var_list.py",
     "varRefreshCmd": "print(var_dic_list())"
    },
    "r": {
     "delete_cmd_postfix": ") ",
     "delete_cmd_prefix": "rm(",
     "library": "var_list.r",
     "varRefreshCmd": "cat(var_dic_list()) "
    }
   },
   "types_to_exclude": [
    "module",
    "function",
    "builtin_function_or_method",
    "instance",
    "_Feature"
   ],
   "window_display": false
  }
 },
 "nbformat": 4,
 "nbformat_minor": 2
}
